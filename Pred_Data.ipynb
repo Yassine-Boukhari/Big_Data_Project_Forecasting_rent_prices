{
  "nbformat": 4,
  "nbformat_minor": 0,
  "metadata": {
    "colab": {
      "name": "Pred_Data.ipynb",
      "provenance": [],
      "collapsed_sections": [
        "rh06AkGBs3et"
      ]
    },
    "kernelspec": {
      "name": "python3",
      "display_name": "Python 3"
    },
    "language_info": {
      "name": "python"
    }
  },
  "cells": [
    {
      "cell_type": "markdown",
      "source": [
        "# Prediction of the rent prices \n",
        "After the cleaning and data processing part now let's jump to the main objective of this project the rent prediction part. For that we will use many regression based model as we will present further after. \n",
        "\n",
        "\n",
        "## 1.   Feature engineering \n",
        "\n",
        "1.   Changing catergorical data to ordinal data\n",
        "2.   Standardization of the data\n",
        "\n",
        "\n",
        "## 2.   Applying regression predictive model\n",
        "\n",
        "### Models to be used for the prediction\n",
        "> * Lasso Regression\n",
        "> * Ridge Regression\n",
        "> * Kfold Regularization"
      ],
      "metadata": {
        "id": "BaVBHiG1YH1e"
      }
    },
    {
      "cell_type": "markdown",
      "source": [
        "* First let's take a look on our cleaned dataset, in order to do it let's import our previous results"
      ],
      "metadata": {
        "id": "IJBLzEqXabiM"
      }
    },
    {
      "cell_type": "code",
      "execution_count": null,
      "metadata": {
        "colab": {
          "base_uri": "https://localhost:8080/"
        },
        "id": "rFB91QvIX7ET",
        "outputId": "c42b2af7-55b8-41de-a579-2e00bed856eb"
      },
      "outputs": [
        {
          "output_type": "stream",
          "name": "stdout",
          "text": [
            "Mounted at /content/gdrive\n"
          ]
        }
      ],
      "source": [
        "# Access files from Google Drive\n",
        "from google.colab import drive \n",
        "drive.mount('/content/gdrive')"
      ]
    },
    {
      "cell_type": "code",
      "source": [
        "# Necessary imports\n",
        "import pandas as pd\n",
        "import numpy as np\n",
        "import seaborn as sns\n",
        "import matplotlib.pyplot as plt\n",
        "import matplotlib.pylab as plb \n",
        "%matplotlib inline\n",
        "\n",
        "import statsmodels.api as sm\n",
        "from sklearn.model_selection import train_test_split, KFold\n",
        "from sklearn.linear_model import LinearRegression, Lasso, LassoCV, Ridge, RidgeCV\n",
        "from sklearn.preprocessing import StandardScaler, PolynomialFeatures\n",
        "from sklearn.metrics import r2_score, mean_squared_error\n",
        "\n",
        "sns.set(context='notebook', style='whitegrid', font_scale=1.2)"
      ],
      "metadata": {
        "colab": {
          "base_uri": "https://localhost:8080/"
        },
        "id": "RqIgBu7bcwwx",
        "outputId": "c502f1b6-179d-4fff-aa0b-fe4ff88d7cc1"
      },
      "execution_count": null,
      "outputs": [
        {
          "output_type": "stream",
          "name": "stderr",
          "text": [
            "/usr/local/lib/python3.7/dist-packages/statsmodels/tools/_testing.py:19: FutureWarning: pandas.util.testing is deprecated. Use the functions in the public API at pandas.testing instead.\n",
            "  import pandas.util.testing as tm\n"
          ]
        }
      ]
    },
    {
      "cell_type": "markdown",
      "source": [
        "## Importing the data and data processing"
      ],
      "metadata": {
        "id": "KitEQbCyDzzz"
      }
    },
    {
      "cell_type": "code",
      "source": [
        "sf = pd.read_csv(\"./gdrive/My Drive/Projecto_BD/sf_clean.csv\")"
      ],
      "metadata": {
        "id": "WQLYTvjRc8Qo"
      },
      "execution_count": null,
      "outputs": []
    },
    {
      "cell_type": "code",
      "source": [
        "#Re-adapting hood_district names\n",
        "sf['hood_district'] = sf['hood_district'].astype(int)\n",
        "sf['hood_district'] = sf['hood_district'].astype(str)"
      ],
      "metadata": {
        "id": "AkgCSpm5dqBS"
      },
      "execution_count": null,
      "outputs": []
    },
    {
      "cell_type": "code",
      "source": [
        "sf.head()"
      ],
      "metadata": {
        "colab": {
          "base_uri": "https://localhost:8080/",
          "height": 206
        },
        "id": "BW3k7fgTn0YL",
        "outputId": "e9b57371-8760-4c39-89ca-9a09b4f5f407"
      },
      "execution_count": null,
      "outputs": [
        {
          "output_type": "execute_result",
          "data": {
            "text/html": [
              "\n",
              "  <div id=\"df-b2ddc688-1465-403f-9d66-e151763d058b\">\n",
              "    <div class=\"colab-df-container\">\n",
              "      <div>\n",
              "<style scoped>\n",
              "    .dataframe tbody tr th:only-of-type {\n",
              "        vertical-align: middle;\n",
              "    }\n",
              "\n",
              "    .dataframe tbody tr th {\n",
              "        vertical-align: top;\n",
              "    }\n",
              "\n",
              "    .dataframe thead th {\n",
              "        text-align: right;\n",
              "    }\n",
              "</style>\n",
              "<table border=\"1\" class=\"dataframe\">\n",
              "  <thead>\n",
              "    <tr style=\"text-align: right;\">\n",
              "      <th></th>\n",
              "      <th>price</th>\n",
              "      <th>sqft</th>\n",
              "      <th>beds</th>\n",
              "      <th>bath</th>\n",
              "      <th>laundry</th>\n",
              "      <th>pets</th>\n",
              "      <th>housing_type</th>\n",
              "      <th>parking</th>\n",
              "      <th>hood_district</th>\n",
              "    </tr>\n",
              "  </thead>\n",
              "  <tbody>\n",
              "    <tr>\n",
              "      <th>0</th>\n",
              "      <td>3920</td>\n",
              "      <td>805.0</td>\n",
              "      <td>1.0</td>\n",
              "      <td>1.0</td>\n",
              "      <td>(a) in-unit</td>\n",
              "      <td>(a) both</td>\n",
              "      <td>(c) multi</td>\n",
              "      <td>(b) protected</td>\n",
              "      <td>6</td>\n",
              "    </tr>\n",
              "    <tr>\n",
              "      <th>1</th>\n",
              "      <td>3870</td>\n",
              "      <td>805.0</td>\n",
              "      <td>1.0</td>\n",
              "      <td>1.0</td>\n",
              "      <td>(a) in-unit</td>\n",
              "      <td>(a) both</td>\n",
              "      <td>(c) multi</td>\n",
              "      <td>(b) protected</td>\n",
              "      <td>6</td>\n",
              "    </tr>\n",
              "    <tr>\n",
              "      <th>2</th>\n",
              "      <td>5105</td>\n",
              "      <td>1388.0</td>\n",
              "      <td>2.0</td>\n",
              "      <td>2.5</td>\n",
              "      <td>(a) in-unit</td>\n",
              "      <td>(a) both</td>\n",
              "      <td>(c) multi</td>\n",
              "      <td>(b) protected</td>\n",
              "      <td>6</td>\n",
              "    </tr>\n",
              "    <tr>\n",
              "      <th>3</th>\n",
              "      <td>4850</td>\n",
              "      <td>1388.0</td>\n",
              "      <td>2.0</td>\n",
              "      <td>2.5</td>\n",
              "      <td>(a) in-unit</td>\n",
              "      <td>(a) both</td>\n",
              "      <td>(c) multi</td>\n",
              "      <td>(b) protected</td>\n",
              "      <td>6</td>\n",
              "    </tr>\n",
              "    <tr>\n",
              "      <th>4</th>\n",
              "      <td>4750</td>\n",
              "      <td>1388.0</td>\n",
              "      <td>2.0</td>\n",
              "      <td>2.5</td>\n",
              "      <td>(a) in-unit</td>\n",
              "      <td>(a) both</td>\n",
              "      <td>(c) multi</td>\n",
              "      <td>(b) protected</td>\n",
              "      <td>6</td>\n",
              "    </tr>\n",
              "  </tbody>\n",
              "</table>\n",
              "</div>\n",
              "      <button class=\"colab-df-convert\" onclick=\"convertToInteractive('df-b2ddc688-1465-403f-9d66-e151763d058b')\"\n",
              "              title=\"Convert this dataframe to an interactive table.\"\n",
              "              style=\"display:none;\">\n",
              "        \n",
              "  <svg xmlns=\"http://www.w3.org/2000/svg\" height=\"24px\"viewBox=\"0 0 24 24\"\n",
              "       width=\"24px\">\n",
              "    <path d=\"M0 0h24v24H0V0z\" fill=\"none\"/>\n",
              "    <path d=\"M18.56 5.44l.94 2.06.94-2.06 2.06-.94-2.06-.94-.94-2.06-.94 2.06-2.06.94zm-11 1L8.5 8.5l.94-2.06 2.06-.94-2.06-.94L8.5 2.5l-.94 2.06-2.06.94zm10 10l.94 2.06.94-2.06 2.06-.94-2.06-.94-.94-2.06-.94 2.06-2.06.94z\"/><path d=\"M17.41 7.96l-1.37-1.37c-.4-.4-.92-.59-1.43-.59-.52 0-1.04.2-1.43.59L10.3 9.45l-7.72 7.72c-.78.78-.78 2.05 0 2.83L4 21.41c.39.39.9.59 1.41.59.51 0 1.02-.2 1.41-.59l7.78-7.78 2.81-2.81c.8-.78.8-2.07 0-2.86zM5.41 20L4 18.59l7.72-7.72 1.47 1.35L5.41 20z\"/>\n",
              "  </svg>\n",
              "      </button>\n",
              "      \n",
              "  <style>\n",
              "    .colab-df-container {\n",
              "      display:flex;\n",
              "      flex-wrap:wrap;\n",
              "      gap: 12px;\n",
              "    }\n",
              "\n",
              "    .colab-df-convert {\n",
              "      background-color: #E8F0FE;\n",
              "      border: none;\n",
              "      border-radius: 50%;\n",
              "      cursor: pointer;\n",
              "      display: none;\n",
              "      fill: #1967D2;\n",
              "      height: 32px;\n",
              "      padding: 0 0 0 0;\n",
              "      width: 32px;\n",
              "    }\n",
              "\n",
              "    .colab-df-convert:hover {\n",
              "      background-color: #E2EBFA;\n",
              "      box-shadow: 0px 1px 2px rgba(60, 64, 67, 0.3), 0px 1px 3px 1px rgba(60, 64, 67, 0.15);\n",
              "      fill: #174EA6;\n",
              "    }\n",
              "\n",
              "    [theme=dark] .colab-df-convert {\n",
              "      background-color: #3B4455;\n",
              "      fill: #D2E3FC;\n",
              "    }\n",
              "\n",
              "    [theme=dark] .colab-df-convert:hover {\n",
              "      background-color: #434B5C;\n",
              "      box-shadow: 0px 1px 3px 1px rgba(0, 0, 0, 0.15);\n",
              "      filter: drop-shadow(0px 1px 2px rgba(0, 0, 0, 0.3));\n",
              "      fill: #FFFFFF;\n",
              "    }\n",
              "  </style>\n",
              "\n",
              "      <script>\n",
              "        const buttonEl =\n",
              "          document.querySelector('#df-b2ddc688-1465-403f-9d66-e151763d058b button.colab-df-convert');\n",
              "        buttonEl.style.display =\n",
              "          google.colab.kernel.accessAllowed ? 'block' : 'none';\n",
              "\n",
              "        async function convertToInteractive(key) {\n",
              "          const element = document.querySelector('#df-b2ddc688-1465-403f-9d66-e151763d058b');\n",
              "          const dataTable =\n",
              "            await google.colab.kernel.invokeFunction('convertToInteractive',\n",
              "                                                     [key], {});\n",
              "          if (!dataTable) return;\n",
              "\n",
              "          const docLinkHtml = 'Like what you see? Visit the ' +\n",
              "            '<a target=\"_blank\" href=https://colab.research.google.com/notebooks/data_table.ipynb>data table notebook</a>'\n",
              "            + ' to learn more about interactive tables.';\n",
              "          element.innerHTML = '';\n",
              "          dataTable['output_type'] = 'display_data';\n",
              "          await google.colab.output.renderOutput(dataTable, element);\n",
              "          const docLink = document.createElement('div');\n",
              "          docLink.innerHTML = docLinkHtml;\n",
              "          element.appendChild(docLink);\n",
              "        }\n",
              "      </script>\n",
              "    </div>\n",
              "  </div>\n",
              "  "
            ],
            "text/plain": [
              "   price    sqft  beds  ...  housing_type        parking hood_district\n",
              "0   3920   805.0   1.0  ...     (c) multi  (b) protected             6\n",
              "1   3870   805.0   1.0  ...     (c) multi  (b) protected             6\n",
              "2   5105  1388.0   2.0  ...     (c) multi  (b) protected             6\n",
              "3   4850  1388.0   2.0  ...     (c) multi  (b) protected             6\n",
              "4   4750  1388.0   2.0  ...     (c) multi  (b) protected             6\n",
              "\n",
              "[5 rows x 9 columns]"
            ]
          },
          "metadata": {},
          "execution_count": 7
        }
      ]
    },
    {
      "cell_type": "markdown",
      "source": [
        "* Limiting the scope of our data by limiting the outliers we're gonna pick to rental offers under **6000$**"
      ],
      "metadata": {
        "id": "VnaX4ecLpSuM"
      }
    },
    {
      "cell_type": "code",
      "source": [
        "sf = sf[sf['price'] < 6000]"
      ],
      "metadata": {
        "id": "E77_ct2derH6"
      },
      "execution_count": null,
      "outputs": []
    },
    {
      "cell_type": "markdown",
      "source": [
        "* Converting nominal to ordinal variables "
      ],
      "metadata": {
        "id": "1x-i7UM5oRE7"
      }
    },
    {
      "cell_type": "code",
      "source": [
        "sf.info()"
      ],
      "metadata": {
        "colab": {
          "base_uri": "https://localhost:8080/"
        },
        "id": "Y2oiy539napc",
        "outputId": "f05356c9-7c1b-4706-9ff9-50688677ba7f"
      },
      "execution_count": null,
      "outputs": [
        {
          "output_type": "stream",
          "name": "stdout",
          "text": [
            "<class 'pandas.core.frame.DataFrame'>\n",
            "Int64Index: 987 entries, 0 to 1087\n",
            "Data columns (total 9 columns):\n",
            " #   Column         Non-Null Count  Dtype  \n",
            "---  ------         --------------  -----  \n",
            " 0   price          987 non-null    int64  \n",
            " 1   sqft           987 non-null    float64\n",
            " 2   beds           987 non-null    float64\n",
            " 3   bath           987 non-null    float64\n",
            " 4   laundry        987 non-null    object \n",
            " 5   pets           987 non-null    object \n",
            " 6   housing_type   987 non-null    object \n",
            " 7   parking        987 non-null    object \n",
            " 8   hood_district  987 non-null    object \n",
            "dtypes: float64(3), int64(1), object(5)\n",
            "memory usage: 77.1+ KB\n"
          ]
        }
      ]
    },
    {
      "cell_type": "markdown",
      "source": [
        "* As we can see our data have for categorical values :\n",
        "\n",
        "1.   Laundry\n",
        "2.   Pets\n",
        "3.   Housing type\n",
        "4.   Parking\n",
        "5.   Hood District\n",
        "\n",
        "\n"
      ],
      "metadata": {
        "id": "7HgYba2Bob4Y"
      }
    },
    {
      "cell_type": "markdown",
      "source": [
        "Let's begin first with Laundry for that we will create a dictionnary where each **nominal** value will have its **ordinal** equivalent "
      ],
      "metadata": {
        "id": "1RttbrKspnFN"
      }
    },
    {
      "cell_type": "code",
      "source": [
        "laundry_dict = {'(a) in-unit': 2, \n",
        "               '(b) on-site': 1,\n",
        "               '(c) no laundry': 0}\n",
        "sf = sf.replace({'laundry': laundry_dict})"
      ],
      "metadata": {
        "id": "X5xxPRZ9okHJ"
      },
      "execution_count": null,
      "outputs": []
    },
    {
      "cell_type": "code",
      "source": [
        "sf.head()"
      ],
      "metadata": {
        "colab": {
          "base_uri": "https://localhost:8080/",
          "height": 206
        },
        "id": "dQm8JYzqpS3l",
        "outputId": "0f96d3f8-7404-4bc4-fb4b-fdd6cb5745a5"
      },
      "execution_count": null,
      "outputs": [
        {
          "output_type": "execute_result",
          "data": {
            "text/html": [
              "\n",
              "  <div id=\"df-36b8d7d4-e873-418e-94fa-ab952fa76737\">\n",
              "    <div class=\"colab-df-container\">\n",
              "      <div>\n",
              "<style scoped>\n",
              "    .dataframe tbody tr th:only-of-type {\n",
              "        vertical-align: middle;\n",
              "    }\n",
              "\n",
              "    .dataframe tbody tr th {\n",
              "        vertical-align: top;\n",
              "    }\n",
              "\n",
              "    .dataframe thead th {\n",
              "        text-align: right;\n",
              "    }\n",
              "</style>\n",
              "<table border=\"1\" class=\"dataframe\">\n",
              "  <thead>\n",
              "    <tr style=\"text-align: right;\">\n",
              "      <th></th>\n",
              "      <th>price</th>\n",
              "      <th>sqft</th>\n",
              "      <th>beds</th>\n",
              "      <th>bath</th>\n",
              "      <th>laundry</th>\n",
              "      <th>pets</th>\n",
              "      <th>housing_type</th>\n",
              "      <th>parking</th>\n",
              "      <th>hood_district</th>\n",
              "    </tr>\n",
              "  </thead>\n",
              "  <tbody>\n",
              "    <tr>\n",
              "      <th>0</th>\n",
              "      <td>3920</td>\n",
              "      <td>805.0</td>\n",
              "      <td>1.0</td>\n",
              "      <td>1.0</td>\n",
              "      <td>2</td>\n",
              "      <td>(a) both</td>\n",
              "      <td>(c) multi</td>\n",
              "      <td>(b) protected</td>\n",
              "      <td>6</td>\n",
              "    </tr>\n",
              "    <tr>\n",
              "      <th>1</th>\n",
              "      <td>3870</td>\n",
              "      <td>805.0</td>\n",
              "      <td>1.0</td>\n",
              "      <td>1.0</td>\n",
              "      <td>2</td>\n",
              "      <td>(a) both</td>\n",
              "      <td>(c) multi</td>\n",
              "      <td>(b) protected</td>\n",
              "      <td>6</td>\n",
              "    </tr>\n",
              "    <tr>\n",
              "      <th>2</th>\n",
              "      <td>5105</td>\n",
              "      <td>1388.0</td>\n",
              "      <td>2.0</td>\n",
              "      <td>2.5</td>\n",
              "      <td>2</td>\n",
              "      <td>(a) both</td>\n",
              "      <td>(c) multi</td>\n",
              "      <td>(b) protected</td>\n",
              "      <td>6</td>\n",
              "    </tr>\n",
              "    <tr>\n",
              "      <th>3</th>\n",
              "      <td>4850</td>\n",
              "      <td>1388.0</td>\n",
              "      <td>2.0</td>\n",
              "      <td>2.5</td>\n",
              "      <td>2</td>\n",
              "      <td>(a) both</td>\n",
              "      <td>(c) multi</td>\n",
              "      <td>(b) protected</td>\n",
              "      <td>6</td>\n",
              "    </tr>\n",
              "    <tr>\n",
              "      <th>4</th>\n",
              "      <td>4750</td>\n",
              "      <td>1388.0</td>\n",
              "      <td>2.0</td>\n",
              "      <td>2.5</td>\n",
              "      <td>2</td>\n",
              "      <td>(a) both</td>\n",
              "      <td>(c) multi</td>\n",
              "      <td>(b) protected</td>\n",
              "      <td>6</td>\n",
              "    </tr>\n",
              "  </tbody>\n",
              "</table>\n",
              "</div>\n",
              "      <button class=\"colab-df-convert\" onclick=\"convertToInteractive('df-36b8d7d4-e873-418e-94fa-ab952fa76737')\"\n",
              "              title=\"Convert this dataframe to an interactive table.\"\n",
              "              style=\"display:none;\">\n",
              "        \n",
              "  <svg xmlns=\"http://www.w3.org/2000/svg\" height=\"24px\"viewBox=\"0 0 24 24\"\n",
              "       width=\"24px\">\n",
              "    <path d=\"M0 0h24v24H0V0z\" fill=\"none\"/>\n",
              "    <path d=\"M18.56 5.44l.94 2.06.94-2.06 2.06-.94-2.06-.94-.94-2.06-.94 2.06-2.06.94zm-11 1L8.5 8.5l.94-2.06 2.06-.94-2.06-.94L8.5 2.5l-.94 2.06-2.06.94zm10 10l.94 2.06.94-2.06 2.06-.94-2.06-.94-.94-2.06-.94 2.06-2.06.94z\"/><path d=\"M17.41 7.96l-1.37-1.37c-.4-.4-.92-.59-1.43-.59-.52 0-1.04.2-1.43.59L10.3 9.45l-7.72 7.72c-.78.78-.78 2.05 0 2.83L4 21.41c.39.39.9.59 1.41.59.51 0 1.02-.2 1.41-.59l7.78-7.78 2.81-2.81c.8-.78.8-2.07 0-2.86zM5.41 20L4 18.59l7.72-7.72 1.47 1.35L5.41 20z\"/>\n",
              "  </svg>\n",
              "      </button>\n",
              "      \n",
              "  <style>\n",
              "    .colab-df-container {\n",
              "      display:flex;\n",
              "      flex-wrap:wrap;\n",
              "      gap: 12px;\n",
              "    }\n",
              "\n",
              "    .colab-df-convert {\n",
              "      background-color: #E8F0FE;\n",
              "      border: none;\n",
              "      border-radius: 50%;\n",
              "      cursor: pointer;\n",
              "      display: none;\n",
              "      fill: #1967D2;\n",
              "      height: 32px;\n",
              "      padding: 0 0 0 0;\n",
              "      width: 32px;\n",
              "    }\n",
              "\n",
              "    .colab-df-convert:hover {\n",
              "      background-color: #E2EBFA;\n",
              "      box-shadow: 0px 1px 2px rgba(60, 64, 67, 0.3), 0px 1px 3px 1px rgba(60, 64, 67, 0.15);\n",
              "      fill: #174EA6;\n",
              "    }\n",
              "\n",
              "    [theme=dark] .colab-df-convert {\n",
              "      background-color: #3B4455;\n",
              "      fill: #D2E3FC;\n",
              "    }\n",
              "\n",
              "    [theme=dark] .colab-df-convert:hover {\n",
              "      background-color: #434B5C;\n",
              "      box-shadow: 0px 1px 3px 1px rgba(0, 0, 0, 0.15);\n",
              "      filter: drop-shadow(0px 1px 2px rgba(0, 0, 0, 0.3));\n",
              "      fill: #FFFFFF;\n",
              "    }\n",
              "  </style>\n",
              "\n",
              "      <script>\n",
              "        const buttonEl =\n",
              "          document.querySelector('#df-36b8d7d4-e873-418e-94fa-ab952fa76737 button.colab-df-convert');\n",
              "        buttonEl.style.display =\n",
              "          google.colab.kernel.accessAllowed ? 'block' : 'none';\n",
              "\n",
              "        async function convertToInteractive(key) {\n",
              "          const element = document.querySelector('#df-36b8d7d4-e873-418e-94fa-ab952fa76737');\n",
              "          const dataTable =\n",
              "            await google.colab.kernel.invokeFunction('convertToInteractive',\n",
              "                                                     [key], {});\n",
              "          if (!dataTable) return;\n",
              "\n",
              "          const docLinkHtml = 'Like what you see? Visit the ' +\n",
              "            '<a target=\"_blank\" href=https://colab.research.google.com/notebooks/data_table.ipynb>data table notebook</a>'\n",
              "            + ' to learn more about interactive tables.';\n",
              "          element.innerHTML = '';\n",
              "          dataTable['output_type'] = 'display_data';\n",
              "          await google.colab.output.renderOutput(dataTable, element);\n",
              "          const docLink = document.createElement('div');\n",
              "          docLink.innerHTML = docLinkHtml;\n",
              "          element.appendChild(docLink);\n",
              "        }\n",
              "      </script>\n",
              "    </div>\n",
              "  </div>\n",
              "  "
            ],
            "text/plain": [
              "   price    sqft  beds  ...  housing_type        parking hood_district\n",
              "0   3920   805.0   1.0  ...     (c) multi  (b) protected             6\n",
              "1   3870   805.0   1.0  ...     (c) multi  (b) protected             6\n",
              "2   5105  1388.0   2.0  ...     (c) multi  (b) protected             6\n",
              "3   4850  1388.0   2.0  ...     (c) multi  (b) protected             6\n",
              "4   4750  1388.0   2.0  ...     (c) multi  (b) protected             6\n",
              "\n",
              "[5 rows x 9 columns]"
            ]
          },
          "metadata": {},
          "execution_count": 11
        }
      ]
    },
    {
      "cell_type": "markdown",
      "source": [
        "Let's do the same for the other categorical values"
      ],
      "metadata": {
        "id": "cA_w7x31pgbm"
      }
    },
    {
      "cell_type": "code",
      "source": [
        "sf.parking.unique()"
      ],
      "metadata": {
        "colab": {
          "base_uri": "https://localhost:8080/"
        },
        "id": "6u3jfVB9okEt",
        "outputId": "d13a335d-f96e-4b84-d18b-7e60d4471bed"
      },
      "execution_count": null,
      "outputs": [
        {
          "output_type": "execute_result",
          "data": {
            "text/plain": [
              "array(['(b) protected', '(d) no parking', '(c) off-street', '(a) valet'],\n",
              "      dtype=object)"
            ]
          },
          "metadata": {},
          "execution_count": 12
        }
      ]
    },
    {
      "cell_type": "code",
      "source": [
        "parking_dict = {'(a) valet': 3, \n",
        "               '(b) protected': 2,\n",
        "               '(c) off-street': 1,\n",
        "               '(d) no parking': 0}\n",
        "\n",
        "sf = sf.replace({'parking': parking_dict})"
      ],
      "metadata": {
        "id": "B5Bv-W9TqJdX"
      },
      "execution_count": null,
      "outputs": []
    },
    {
      "cell_type": "markdown",
      "source": [
        "* Same goes for pets but here we're gonna simplify even more the transformation by having a binary value "
      ],
      "metadata": {
        "id": "e4BYeobVqNW5"
      }
    },
    {
      "cell_type": "code",
      "source": [
        "sf.pets.unique()"
      ],
      "metadata": {
        "colab": {
          "base_uri": "https://localhost:8080/"
        },
        "id": "tFb5g1tNqQvz",
        "outputId": "61bd81d8-0111-4cef-fd97-4174c34ca98f"
      },
      "execution_count": null,
      "outputs": [
        {
          "output_type": "execute_result",
          "data": {
            "text/plain": [
              "array(['(a) both', '(d) no pets', '(c) cats', '(b) dogs'], dtype=object)"
            ]
          },
          "metadata": {},
          "execution_count": 14
        }
      ]
    },
    {
      "cell_type": "code",
      "source": [
        "pets_dict = {'(a) both': 1, '(b) dogs': 1,\n",
        "            '(c) cats': 1,'(d) no pets': 0}\n",
        "sf = sf.replace({'pets': pets_dict})"
      ],
      "metadata": {
        "id": "60KKP6ebqWOz"
      },
      "execution_count": null,
      "outputs": []
    },
    {
      "cell_type": "code",
      "source": [
        "sf.housing_type.unique()"
      ],
      "metadata": {
        "colab": {
          "base_uri": "https://localhost:8080/"
        },
        "id": "el1qgrCoq_kM",
        "outputId": "e1bebbac-9424-41c6-ac67-89d0cb925759"
      },
      "execution_count": null,
      "outputs": [
        {
          "output_type": "execute_result",
          "data": {
            "text/plain": [
              "array(['(c) multi', '(b) double', '(a) single'], dtype=object)"
            ]
          },
          "metadata": {},
          "execution_count": 16
        }
      ]
    },
    {
      "cell_type": "markdown",
      "source": [
        "As we've seen in EDA phase the housing type don't give any more information about the quality and the rent price of the appartement so we're gonna drop it "
      ],
      "metadata": {
        "id": "LpXcRXr3rcrq"
      }
    },
    {
      "cell_type": "code",
      "source": [
        "sf=sf.drop(['housing_type'],axis=1)"
      ],
      "metadata": {
        "id": "-AS3KAVQrs6G"
      },
      "execution_count": null,
      "outputs": []
    },
    {
      "cell_type": "markdown",
      "source": [
        "Now let's face our last categorical value the **'neighborhood districts'**"
      ],
      "metadata": {
        "id": "dFArZIQZr1Yl"
      }
    },
    {
      "cell_type": "code",
      "source": [
        "sf=pd.get_dummies(sf)"
      ],
      "metadata": {
        "id": "EWAFGRKcr_tI"
      },
      "execution_count": null,
      "outputs": []
    },
    {
      "cell_type": "code",
      "source": [
        "sf=sf.drop(['hood_district_10'],axis=1)"
      ],
      "metadata": {
        "id": "XGIRlpjosqdu"
      },
      "execution_count": null,
      "outputs": []
    },
    {
      "cell_type": "code",
      "source": [
        "#Encapsulate our Data into a csv file\n",
        "sf.to_csv('sf_final.csv', index=False)"
      ],
      "metadata": {
        "id": "o3cTSo-xaYr-"
      },
      "execution_count": null,
      "outputs": []
    },
    {
      "cell_type": "code",
      "source": [
        "sf.head()"
      ],
      "metadata": {
        "id": "jpYUp8wEn-7T",
        "outputId": "6960288c-3cc4-40e7-8f32-7f3a1a709664",
        "colab": {
          "base_uri": "https://localhost:8080/",
          "height": 270
        }
      },
      "execution_count": null,
      "outputs": [
        {
          "output_type": "execute_result",
          "data": {
            "text/html": [
              "\n",
              "  <div id=\"df-fbf289a2-8f2a-4f2f-a1af-8a8ebc7680bc\">\n",
              "    <div class=\"colab-df-container\">\n",
              "      <div>\n",
              "<style scoped>\n",
              "    .dataframe tbody tr th:only-of-type {\n",
              "        vertical-align: middle;\n",
              "    }\n",
              "\n",
              "    .dataframe tbody tr th {\n",
              "        vertical-align: top;\n",
              "    }\n",
              "\n",
              "    .dataframe thead th {\n",
              "        text-align: right;\n",
              "    }\n",
              "</style>\n",
              "<table border=\"1\" class=\"dataframe\">\n",
              "  <thead>\n",
              "    <tr style=\"text-align: right;\">\n",
              "      <th></th>\n",
              "      <th>price</th>\n",
              "      <th>sqft</th>\n",
              "      <th>beds</th>\n",
              "      <th>bath</th>\n",
              "      <th>laundry</th>\n",
              "      <th>pets</th>\n",
              "      <th>parking</th>\n",
              "      <th>hood_district_1</th>\n",
              "      <th>hood_district_2</th>\n",
              "      <th>hood_district_3</th>\n",
              "      <th>hood_district_4</th>\n",
              "      <th>hood_district_5</th>\n",
              "      <th>hood_district_6</th>\n",
              "      <th>hood_district_7</th>\n",
              "      <th>hood_district_8</th>\n",
              "      <th>hood_district_9</th>\n",
              "    </tr>\n",
              "  </thead>\n",
              "  <tbody>\n",
              "    <tr>\n",
              "      <th>0</th>\n",
              "      <td>3920</td>\n",
              "      <td>805.0</td>\n",
              "      <td>1.0</td>\n",
              "      <td>1.0</td>\n",
              "      <td>2</td>\n",
              "      <td>1</td>\n",
              "      <td>2</td>\n",
              "      <td>0</td>\n",
              "      <td>0</td>\n",
              "      <td>0</td>\n",
              "      <td>0</td>\n",
              "      <td>0</td>\n",
              "      <td>1</td>\n",
              "      <td>0</td>\n",
              "      <td>0</td>\n",
              "      <td>0</td>\n",
              "    </tr>\n",
              "    <tr>\n",
              "      <th>1</th>\n",
              "      <td>3870</td>\n",
              "      <td>805.0</td>\n",
              "      <td>1.0</td>\n",
              "      <td>1.0</td>\n",
              "      <td>2</td>\n",
              "      <td>1</td>\n",
              "      <td>2</td>\n",
              "      <td>0</td>\n",
              "      <td>0</td>\n",
              "      <td>0</td>\n",
              "      <td>0</td>\n",
              "      <td>0</td>\n",
              "      <td>1</td>\n",
              "      <td>0</td>\n",
              "      <td>0</td>\n",
              "      <td>0</td>\n",
              "    </tr>\n",
              "    <tr>\n",
              "      <th>2</th>\n",
              "      <td>5105</td>\n",
              "      <td>1388.0</td>\n",
              "      <td>2.0</td>\n",
              "      <td>2.5</td>\n",
              "      <td>2</td>\n",
              "      <td>1</td>\n",
              "      <td>2</td>\n",
              "      <td>0</td>\n",
              "      <td>0</td>\n",
              "      <td>0</td>\n",
              "      <td>0</td>\n",
              "      <td>0</td>\n",
              "      <td>1</td>\n",
              "      <td>0</td>\n",
              "      <td>0</td>\n",
              "      <td>0</td>\n",
              "    </tr>\n",
              "    <tr>\n",
              "      <th>3</th>\n",
              "      <td>4850</td>\n",
              "      <td>1388.0</td>\n",
              "      <td>2.0</td>\n",
              "      <td>2.5</td>\n",
              "      <td>2</td>\n",
              "      <td>1</td>\n",
              "      <td>2</td>\n",
              "      <td>0</td>\n",
              "      <td>0</td>\n",
              "      <td>0</td>\n",
              "      <td>0</td>\n",
              "      <td>0</td>\n",
              "      <td>1</td>\n",
              "      <td>0</td>\n",
              "      <td>0</td>\n",
              "      <td>0</td>\n",
              "    </tr>\n",
              "    <tr>\n",
              "      <th>4</th>\n",
              "      <td>4750</td>\n",
              "      <td>1388.0</td>\n",
              "      <td>2.0</td>\n",
              "      <td>2.5</td>\n",
              "      <td>2</td>\n",
              "      <td>1</td>\n",
              "      <td>2</td>\n",
              "      <td>0</td>\n",
              "      <td>0</td>\n",
              "      <td>0</td>\n",
              "      <td>0</td>\n",
              "      <td>0</td>\n",
              "      <td>1</td>\n",
              "      <td>0</td>\n",
              "      <td>0</td>\n",
              "      <td>0</td>\n",
              "    </tr>\n",
              "  </tbody>\n",
              "</table>\n",
              "</div>\n",
              "      <button class=\"colab-df-convert\" onclick=\"convertToInteractive('df-fbf289a2-8f2a-4f2f-a1af-8a8ebc7680bc')\"\n",
              "              title=\"Convert this dataframe to an interactive table.\"\n",
              "              style=\"display:none;\">\n",
              "        \n",
              "  <svg xmlns=\"http://www.w3.org/2000/svg\" height=\"24px\"viewBox=\"0 0 24 24\"\n",
              "       width=\"24px\">\n",
              "    <path d=\"M0 0h24v24H0V0z\" fill=\"none\"/>\n",
              "    <path d=\"M18.56 5.44l.94 2.06.94-2.06 2.06-.94-2.06-.94-.94-2.06-.94 2.06-2.06.94zm-11 1L8.5 8.5l.94-2.06 2.06-.94-2.06-.94L8.5 2.5l-.94 2.06-2.06.94zm10 10l.94 2.06.94-2.06 2.06-.94-2.06-.94-.94-2.06-.94 2.06-2.06.94z\"/><path d=\"M17.41 7.96l-1.37-1.37c-.4-.4-.92-.59-1.43-.59-.52 0-1.04.2-1.43.59L10.3 9.45l-7.72 7.72c-.78.78-.78 2.05 0 2.83L4 21.41c.39.39.9.59 1.41.59.51 0 1.02-.2 1.41-.59l7.78-7.78 2.81-2.81c.8-.78.8-2.07 0-2.86zM5.41 20L4 18.59l7.72-7.72 1.47 1.35L5.41 20z\"/>\n",
              "  </svg>\n",
              "      </button>\n",
              "      \n",
              "  <style>\n",
              "    .colab-df-container {\n",
              "      display:flex;\n",
              "      flex-wrap:wrap;\n",
              "      gap: 12px;\n",
              "    }\n",
              "\n",
              "    .colab-df-convert {\n",
              "      background-color: #E8F0FE;\n",
              "      border: none;\n",
              "      border-radius: 50%;\n",
              "      cursor: pointer;\n",
              "      display: none;\n",
              "      fill: #1967D2;\n",
              "      height: 32px;\n",
              "      padding: 0 0 0 0;\n",
              "      width: 32px;\n",
              "    }\n",
              "\n",
              "    .colab-df-convert:hover {\n",
              "      background-color: #E2EBFA;\n",
              "      box-shadow: 0px 1px 2px rgba(60, 64, 67, 0.3), 0px 1px 3px 1px rgba(60, 64, 67, 0.15);\n",
              "      fill: #174EA6;\n",
              "    }\n",
              "\n",
              "    [theme=dark] .colab-df-convert {\n",
              "      background-color: #3B4455;\n",
              "      fill: #D2E3FC;\n",
              "    }\n",
              "\n",
              "    [theme=dark] .colab-df-convert:hover {\n",
              "      background-color: #434B5C;\n",
              "      box-shadow: 0px 1px 3px 1px rgba(0, 0, 0, 0.15);\n",
              "      filter: drop-shadow(0px 1px 2px rgba(0, 0, 0, 0.3));\n",
              "      fill: #FFFFFF;\n",
              "    }\n",
              "  </style>\n",
              "\n",
              "      <script>\n",
              "        const buttonEl =\n",
              "          document.querySelector('#df-fbf289a2-8f2a-4f2f-a1af-8a8ebc7680bc button.colab-df-convert');\n",
              "        buttonEl.style.display =\n",
              "          google.colab.kernel.accessAllowed ? 'block' : 'none';\n",
              "\n",
              "        async function convertToInteractive(key) {\n",
              "          const element = document.querySelector('#df-fbf289a2-8f2a-4f2f-a1af-8a8ebc7680bc');\n",
              "          const dataTable =\n",
              "            await google.colab.kernel.invokeFunction('convertToInteractive',\n",
              "                                                     [key], {});\n",
              "          if (!dataTable) return;\n",
              "\n",
              "          const docLinkHtml = 'Like what you see? Visit the ' +\n",
              "            '<a target=\"_blank\" href=https://colab.research.google.com/notebooks/data_table.ipynb>data table notebook</a>'\n",
              "            + ' to learn more about interactive tables.';\n",
              "          element.innerHTML = '';\n",
              "          dataTable['output_type'] = 'display_data';\n",
              "          await google.colab.output.renderOutput(dataTable, element);\n",
              "          const docLink = document.createElement('div');\n",
              "          docLink.innerHTML = docLinkHtml;\n",
              "          element.appendChild(docLink);\n",
              "        }\n",
              "      </script>\n",
              "    </div>\n",
              "  </div>\n",
              "  "
            ],
            "text/plain": [
              "   price    sqft  beds  ...  hood_district_7  hood_district_8  hood_district_9\n",
              "0   3920   805.0   1.0  ...                0                0                0\n",
              "1   3870   805.0   1.0  ...                0                0                0\n",
              "2   5105  1388.0   2.0  ...                0                0                0\n",
              "3   4850  1388.0   2.0  ...                0                0                0\n",
              "4   4750  1388.0   2.0  ...                0                0                0\n",
              "\n",
              "[5 rows x 16 columns]"
            ]
          },
          "metadata": {},
          "execution_count": 45
        }
      ]
    },
    {
      "cell_type": "markdown",
      "source": [
        "## Modeling\n",
        "\n",
        "1. ***Train/Test split***"
      ],
      "metadata": {
        "id": "rh06AkGBs3et"
      }
    },
    {
      "cell_type": "markdown",
      "source": [
        "* First let's get rid of our feature columns to predict which is the price here"
      ],
      "metadata": {
        "id": "Tjm2A4A0tJLL"
      }
    },
    {
      "cell_type": "code",
      "source": [
        "X, y = sf.drop('price',axis=1), sf['price']\n",
        "\n",
        "#Train&Test\n",
        "# Let's choose 20% of the data for testing\n",
        "X, X_test, y, y_test = train_test_split(X, y, test_size=.2, random_state=42)\n",
        "\n",
        "# Training&Validation\n",
        "X_train, X_val, y_train, y_val = train_test_split(X, y, test_size=.2, random_state=4)"
      ],
      "metadata": {
        "id": "GQHHs43PtFKg"
      },
      "execution_count": null,
      "outputs": []
    },
    {
      "cell_type": "code",
      "source": [
        "poly = PolynomialFeatures(degree=2, interaction_only=False)\n",
        "    \n",
        "X_train_poly = poly.fit_transform(X_train)\n",
        "X_val_poly = poly.transform(X_val)\n",
        "X_test_poly = poly.transform(X_test)"
      ],
      "metadata": {
        "id": "8JoEniJJuLbA"
      },
      "execution_count": null,
      "outputs": []
    },
    {
      "cell_type": "markdown",
      "source": [
        "* First in order to prepare our data to the regularization's techniques let's first apply standardization to avoid overfitting the data and lower their dispersion "
      ],
      "metadata": {
        "id": "MecLN6fJ8wyg"
      }
    },
    {
      "cell_type": "code",
      "source": [
        "# Scaling for Ridge / Lasso \n",
        "scaler = StandardScaler(with_mean=False)\n",
        "\n",
        "X_train_scaled = scaler.fit_transform(X_train_poly)\n",
        "X_val_scaled = scaler.transform(X_val_poly)\n",
        "X_test_scaled = scaler.transform(X_test_poly)"
      ],
      "metadata": {
        "id": "xppTqFyd8rPv"
      },
      "execution_count": null,
      "outputs": []
    },
    {
      "cell_type": "markdown",
      "source": [
        "## Machine learning models \n"
      ],
      "metadata": {
        "id": "e0exb38Lt_jn"
      }
    },
    {
      "cell_type": "markdown",
      "source": [
        "### 2. Regularization's techniques\n",
        "\n",
        "> **2.1 Lasso** :\n",
        "\n"
      ],
      "metadata": {
        "id": "FbHhsXSYvA2Z"
      }
    },
    {
      "cell_type": "code",
      "source": [
        "alphavec = 10**np.linspace(-2,1,10000)\n",
        "\n",
        "lasso_model = LassoCV(alphas=alphavec, cv=3).fit(X_train_scaled, y_train)\n"
      ],
      "metadata": {
        "id": "PpRMNj5LwNDg"
      },
      "execution_count": null,
      "outputs": []
    },
    {
      "cell_type": "markdown",
      "source": [
        "* Let's identify the best alpha obtained from the cross validation "
      ],
      "metadata": {
        "id": "PPqTENOiwVKP"
      }
    },
    {
      "cell_type": "code",
      "source": [
        "lasso_alpha = lasso_model.alpha_\n",
        "lasso_alpha"
      ],
      "metadata": {
        "colab": {
          "base_uri": "https://localhost:8080/"
        },
        "id": "F80hzqrYwhTL",
        "outputId": "21d27f13-0ac9-4c9a-91ca-6adf5f28dcbf"
      },
      "execution_count": null,
      "outputs": [
        {
          "output_type": "execute_result",
          "data": {
            "text/plain": [
              "1.3731366893478814"
            ]
          },
          "metadata": {},
          "execution_count": 25
        }
      ]
    },
    {
      "cell_type": "markdown",
      "source": [
        "Now that we have our best parameter let's apply the lasso's regressor to our training set  "
      ],
      "metadata": {
        "id": "IPxCtbpKxGJV"
      }
    },
    {
      "cell_type": "code",
      "source": [
        "las=Lasso(alpha=lasso_alpha)\n",
        "las.fit(X_train_scaled,y_train)\n",
        "#Using R^2 to compute the accuracy of the pred\n",
        "print(f'Lasso Regression train R^2: {las.score(X_train_scaled, y_train):.5f}')\n",
        "print(f'Lasso Regression val R^2: {las.score(X_val_scaled, y_val):.5f}')\n",
        "print(\"\")\n",
        "#Using RMSE to compute the error\n",
        "print(f'Lasso Regression RMSE (train): {mean_squared_error(y_train, las.predict(X_train_scaled), squared=False):.5f}')\n",
        "print(f'Lasso Regression RMSE (val): {mean_squared_error(y_val, las.predict(X_val_scaled), squared=False):.5f}')\n"
      ],
      "metadata": {
        "colab": {
          "base_uri": "https://localhost:8080/"
        },
        "id": "w7a-jAiSxFbB",
        "outputId": "810fb5b1-1e46-46f2-9215-daf54643c5bb"
      },
      "execution_count": null,
      "outputs": [
        {
          "output_type": "stream",
          "name": "stdout",
          "text": [
            "Lasso Regression train R^2: 0.77259\n",
            "Lasso Regression val R^2: 0.59567\n",
            "\n",
            "Lasso Regression RMSE (train): 516.74670\n",
            "Lasso Regression RMSE (val): 674.18450\n"
          ]
        }
      ]
    },
    {
      "cell_type": "markdown",
      "source": [
        "* The score is high in training and average one in Validation for both **RMSE** and **R^2**"
      ],
      "metadata": {
        "id": "GGc_bgMfyHjt"
      }
    },
    {
      "cell_type": "markdown",
      "source": [
        "\n",
        "\n",
        "> **2.2 Ridge** :\n",
        "\n"
      ],
      "metadata": {
        "id": "VZg_0XCZyZEX"
      }
    },
    {
      "cell_type": "code",
      "source": [
        "alphavecr=10*np.linspace(-1,1,10000)\n",
        "\n",
        "ridge_model=RidgeCV(alphas=alphavecr,cv=3)\n",
        "ridge_model.fit(X_train_scaled,y_train)"
      ],
      "metadata": {
        "colab": {
          "base_uri": "https://localhost:8080/"
        },
        "id": "fSQz38gUykpg",
        "outputId": "95399114-9963-4c8f-c666-e0f0b48fdd35"
      },
      "execution_count": null,
      "outputs": [
        {
          "output_type": "execute_result",
          "data": {
            "text/plain": [
              "RidgeCV(alphas=array([-10.       ,  -9.9979998,  -9.9959996, ...,   9.9959996,\n",
              "         9.9979998,  10.       ]),\n",
              "        cv=3)"
            ]
          },
          "metadata": {},
          "execution_count": 27
        }
      ]
    },
    {
      "cell_type": "code",
      "source": [
        "ridge_alpha=ridge_model.alpha_\n",
        "ridge_alpha"
      ],
      "metadata": {
        "colab": {
          "base_uri": "https://localhost:8080/"
        },
        "id": "AMnpJZu0y_XF",
        "outputId": "d27436b7-844c-4349-d94b-06b9a6bae50d"
      },
      "execution_count": null,
      "outputs": [
        {
          "output_type": "execute_result",
          "data": {
            "text/plain": [
              "1.341134113411342"
            ]
          },
          "metadata": {},
          "execution_count": 28
        }
      ]
    },
    {
      "cell_type": "code",
      "source": [
        "rid=Ridge(alpha=ridge_alpha)\n",
        "rid.fit(X_train_scaled,y_train)\n",
        "print(f'Ridge Regression train R^2: {rid.score(X_train_scaled, y_train):.5f}')\n",
        "print(f'Ridge Regression val R^2: {rid.score(X_val_scaled, y_val):.5f}')\n",
        "print(\"\")\n",
        "print(f'Ridge Regression RMSE (train): {mean_squared_error(y_train, rid.predict(X_train_scaled), squared=False):.5f}')\n",
        "print(f'Ridge Regression RMSE (val): {mean_squared_error(y_val, rid.predict(X_val_scaled), squared=False):.5f}')\n"
      ],
      "metadata": {
        "colab": {
          "base_uri": "https://localhost:8080/"
        },
        "id": "bxS7QrIOzMgg",
        "outputId": "7d6bb970-e4b5-4b7a-f456-ec6de1d324e0"
      },
      "execution_count": null,
      "outputs": [
        {
          "output_type": "stream",
          "name": "stdout",
          "text": [
            "Ridge Regression train R^2: 0.77580\n",
            "Ridge Regression val R^2: 0.60265\n",
            "\n",
            "Ridge Regression RMSE (train): 513.08999\n",
            "Ridge Regression RMSE (val): 668.33680\n"
          ]
        }
      ]
    },
    {
      "cell_type": "markdown",
      "source": [
        "* With Try with some other parameters for alpha to see if there's any amelioration"
      ],
      "metadata": {
        "id": "K-vbQCoX10bs"
      }
    },
    {
      "cell_type": "code",
      "source": [
        "alphavecr=10*np.linspace(-2,2,500)\n",
        "\n",
        "ridge_model=RidgeCV(alphas=alphavecr,cv=3)\n",
        "ridge_model.fit(X_train_scaled,y_train)"
      ],
      "metadata": {
        "colab": {
          "base_uri": "https://localhost:8080/"
        },
        "id": "yFLFtx8i1y5G",
        "outputId": "9eb03617-4716-43ba-abfc-7a4ec1a5ff82"
      },
      "execution_count": null,
      "outputs": [
        {
          "output_type": "execute_result",
          "data": {
            "text/plain": [
              "RidgeCV(alphas=array([-20.        , -19.91983968, -19.83967936, -19.75951904,\n",
              "       -19.67935872, -19.5991984 , -19.51903808, -19.43887776,\n",
              "       -19.35871743, -19.27855711, -19.19839679, -19.11823647,\n",
              "       -19.03807615, -18.95791583, -18.87775551, -18.79759519,\n",
              "       -18.71743487, -18.63727455, -18.55711423, -18.47695391,\n",
              "       -18.39679359, -18.31663327, -18.23647295, -18.15631263,\n",
              "       -18.0761523 , -17.99599198,...\n",
              "        17.51503006,  17.59519038,  17.6753507 ,  17.75551102,\n",
              "        17.83567134,  17.91583166,  17.99599198,  18.0761523 ,\n",
              "        18.15631263,  18.23647295,  18.31663327,  18.39679359,\n",
              "        18.47695391,  18.55711423,  18.63727455,  18.71743487,\n",
              "        18.79759519,  18.87775551,  18.95791583,  19.03807615,\n",
              "        19.11823647,  19.19839679,  19.27855711,  19.35871743,\n",
              "        19.43887776,  19.51903808,  19.5991984 ,  19.67935872,\n",
              "        19.75951904,  19.83967936,  19.91983968,  20.        ]),\n",
              "        cv=3)"
            ]
          },
          "metadata": {},
          "execution_count": 30
        }
      ]
    },
    {
      "cell_type": "code",
      "source": [
        "ridge_alpha=ridge_model.alpha_\n",
        "ridge_alpha"
      ],
      "metadata": {
        "colab": {
          "base_uri": "https://localhost:8080/"
        },
        "id": "T_ONFooC1zkC",
        "outputId": "2b34ce36-f7ed-47f3-aa69-6a56f2699fff"
      },
      "execution_count": null,
      "outputs": [
        {
          "output_type": "execute_result",
          "data": {
            "text/plain": [
              "1.3226452905811614"
            ]
          },
          "metadata": {},
          "execution_count": 31
        }
      ]
    },
    {
      "cell_type": "code",
      "source": [
        "rid=Ridge(alpha=ridge_alpha)\n",
        "rid.fit(X_train_scaled,y_train)\n",
        "print(f'Ridge Regression train R^2: {rid.score(X_train_scaled, y_train):.5f}')\n",
        "print(f'Ridge Regression val R^2: {rid.score(X_val_scaled, y_val):.5f}')\n",
        "print(\"\")\n",
        "print(f'Ridge Regression RMSE (train): {mean_squared_error(y_train, rid.predict(X_train_scaled), squared=False):.5f}')\n",
        "print(f'Ridge Regression RMSE (val): {mean_squared_error(y_val, rid.predict(X_val_scaled), squared=False):.5f}')"
      ],
      "metadata": {
        "colab": {
          "base_uri": "https://localhost:8080/"
        },
        "id": "x9cDTSMH2GYT",
        "outputId": "6ae73dbd-7715-4f21-a702-23ce208bbf3a"
      },
      "execution_count": null,
      "outputs": [
        {
          "output_type": "stream",
          "name": "stdout",
          "text": [
            "Ridge Regression train R^2: 0.77582\n",
            "Ridge Regression val R^2: 0.60281\n",
            "\n",
            "Ridge Regression RMSE (train): 513.06055\n",
            "Ridge Regression RMSE (val): 668.20153\n"
          ]
        }
      ]
    },
    {
      "cell_type": "markdown",
      "source": [
        "* Let's decide between both of the regressor the best predictor using KFold"
      ],
      "metadata": {
        "id": "MMxO6Se72NYR"
      }
    },
    {
      "cell_type": "markdown",
      "source": [
        "\n",
        "> **2.3 Kfold for Ridge and Lasso**\n",
        "\n"
      ],
      "metadata": {
        "id": "-1Txk8iI2nJr"
      }
    },
    {
      "cell_type": "code",
      "source": [
        "kf = KFold(n_splits=3, shuffle=True, random_state = 12)\n",
        "\n",
        "cv_rid_train_r2s, cv_las_train_r2s = [], []\n",
        "cv_rid_val_r2s, cv_las_val_r2s = [], []\n",
        "\n",
        "rid_rmses_train, las_rmses_train = [], []\n",
        "rid_rmses_val, las_rmses_val = [], []\n",
        "\n",
        "X_kf, y_kf = np.array(X), np.array(y)\n",
        "\n",
        "for train_ind, val_ind in kf.split(X, y):\n",
        "    \n",
        "    X_train, y_train = X_kf[train_ind], y_kf[train_ind]\n",
        "    X_val, y_val = X_kf[val_ind], y_kf[val_ind]\n",
        "    \n",
        "    # Poly features\n",
        "    poly = PolynomialFeatures(degree=2, interaction_only=False)\n",
        "    X_train_poly = poly.fit_transform(X_train)\n",
        "    X_val_poly = poly.transform(X_val)\n",
        "    \n",
        "    # Scaling for Ridge / Lasso \n",
        "    scaler = StandardScaler(with_mean=False)\n",
        "    X_train_scaled = scaler.fit_transform(X_train_poly)\n",
        "    X_val_scaled = scaler.transform(X_val_poly)\n",
        "    \n",
        "    # Lasso\n",
        "    las = Lasso(alpha=lasso_alpha)\n",
        "    las.fit(X_train_scaled, y_train)\n",
        "    \n",
        "    cv_las_train_r2s.append(las.score(X_train_scaled, y_train))\n",
        "    cv_las_val_r2s.append(las.score(X_val_scaled, y_val))\n",
        "    las_rmses_train.append(mean_squared_error(y_train, las.predict(X_train_scaled), squared=False))\n",
        "    las_rmses_val.append(mean_squared_error(y_val, las.predict(X_val_scaled), squared=False))\n",
        "    \n",
        "    # Ridge\n",
        "    rid = Ridge(alpha=ridge_alpha)\n",
        "    rid.fit(X_train_scaled, y_train)\n",
        "    \n",
        "    cv_rid_train_r2s.append(rid.score(X_train_scaled, y_train))\n",
        "    cv_rid_val_r2s.append(rid.score(X_val_scaled, y_val))\n",
        "    rid_rmses_train.append(mean_squared_error(y_train, rid.predict(X_train_scaled), squared=False))\n",
        "    rid_rmses_val.append(mean_squared_error(y_val, rid.predict(X_val_scaled), squared=False))\n",
        "\n",
        "# Summary output\n",
        "\n",
        "print(\"Ridge\")\n",
        "print(f'Ridge mean cv R^2 (TRAIN): {np.mean(cv_rid_train_r2s):.5f} +- {np.std(cv_rid_train_r2s):.5f}')\n",
        "print(f'Ridge mean cv R^2 (VAL): {np.mean(cv_rid_val_r2s):.5f} +- {np.std(cv_rid_val_r2s):.5f}')\n",
        "print(f'Ridge mean RMSE (TRAIN): {np.mean(rid_rmses_train):.5f} +- {np.std(rid_rmses_train):.3f}')\n",
        "print(f'Ridge mean RMSE (VAL): {np.mean(rid_rmses_train):.5f} +- {np.std(rid_rmses_train):.3f}')\n",
        "print('')\n",
        "print(\"Lasso\")\n",
        "print(f'Lasso mean cv R^2 (TRAIN): {np.mean(cv_las_train_r2s):.5f} +- {np.std(cv_las_train_r2s):.5f}')\n",
        "print(f'Lasso mean cv R^2 (VAL): {np.mean(cv_las_val_r2s):.5f} +- {np.std(cv_las_val_r2s):.5f}')\n",
        "print(f'Lasso mean RMSE (VAL): {np.mean(las_rmses_train):.5f} +- {np.std(las_rmses_train):.5f}')\n",
        "print(f'Lasso mean RMSE (VAL): {np.mean(las_rmses_val):.5f} +- {np.std(las_rmses_val):.5f}')"
      ],
      "metadata": {
        "colab": {
          "base_uri": "https://localhost:8080/"
        },
        "id": "qqlS88g_2wxJ",
        "outputId": "76bcce08-374a-4a1e-8217-a746dcc20caf"
      },
      "execution_count": null,
      "outputs": [
        {
          "output_type": "stream",
          "name": "stdout",
          "text": [
            "Ridge\n",
            "Ridge mean cv R^2 (TRAIN): 0.77624 +- 0.02028\n",
            "Ridge mean cv R^2 (VAL): 0.65596 +- 0.10234\n",
            "Ridge mean RMSE (TRAIN): 509.42303 +- 16.055\n",
            "Ridge mean RMSE (VAL): 509.42303 +- 16.055\n",
            "\n",
            "Lasso\n",
            "Lasso mean cv R^2 (TRAIN): 0.77275 +- 0.02045\n",
            "Lasso mean cv R^2 (VAL): 0.65663 +- 0.11450\n",
            "Lasso mean RMSE (VAL): 513.39005 +- 16.01409\n",
            "Lasso mean RMSE (VAL): 620.63818 +- 79.40852\n"
          ]
        }
      ]
    },
    {
      "cell_type": "markdown",
      "source": [
        "* We will keep the ridge as our by default regressor for the rest of this study"
      ],
      "metadata": {
        "id": "Uoe10nuQ4LwK"
      }
    },
    {
      "cell_type": "markdown",
      "source": [
        "\n",
        "\n",
        "> **2.3 Coefficients**\n",
        "\n",
        "Let's put the light on the most explanatory variables among our variables depending on Ridge or Lasso\n",
        "\n"
      ],
      "metadata": {
        "id": "d3xWEfTZ4arn"
      }
    },
    {
      "cell_type": "code",
      "source": [
        "ridge_coefs=rid.coef_\n",
        "lasso_coefs=las.coef_\n",
        "features=sf.columns[1:]\n",
        "coefficient_data={'features':poly.get_feature_names(X.columns),\n",
        "                  'Ridge':ridge_coefs,\n",
        "                  'Lasso':lasso_coefs}\n",
        "coef_sf=pd.DataFrame(coefficient_data)\n",
        "coef_sf.shape"
      ],
      "metadata": {
        "colab": {
          "base_uri": "https://localhost:8080/"
        },
        "id": "XTSJar6Y5Cdu",
        "outputId": "6570ef31-9a0e-4a60-c52f-4969ab24e338"
      },
      "execution_count": null,
      "outputs": [
        {
          "output_type": "stream",
          "name": "stderr",
          "text": [
            "/usr/local/lib/python3.7/dist-packages/sklearn/utils/deprecation.py:87: FutureWarning: Function get_feature_names is deprecated; get_feature_names is deprecated in 1.0 and will be removed in 1.2. Please use get_feature_names_out instead.\n",
            "  warnings.warn(msg, category=FutureWarning)\n"
          ]
        },
        {
          "output_type": "execute_result",
          "data": {
            "text/plain": [
              "(136, 3)"
            ]
          },
          "metadata": {},
          "execution_count": 34
        }
      ]
    },
    {
      "cell_type": "code",
      "source": [
        "coef_sf.head(10)"
      ],
      "metadata": {
        "colab": {
          "base_uri": "https://localhost:8080/",
          "height": 363
        },
        "id": "RRdr3H3e5z9A",
        "outputId": "0d5a0901-bf28-49ed-90ae-1b29f50a7609"
      },
      "execution_count": null,
      "outputs": [
        {
          "output_type": "execute_result",
          "data": {
            "text/html": [
              "\n",
              "  <div id=\"df-bb96e6c0-29db-44a9-9e24-fab78aa4fb53\">\n",
              "    <div class=\"colab-df-container\">\n",
              "      <div>\n",
              "<style scoped>\n",
              "    .dataframe tbody tr th:only-of-type {\n",
              "        vertical-align: middle;\n",
              "    }\n",
              "\n",
              "    .dataframe tbody tr th {\n",
              "        vertical-align: top;\n",
              "    }\n",
              "\n",
              "    .dataframe thead th {\n",
              "        text-align: right;\n",
              "    }\n",
              "</style>\n",
              "<table border=\"1\" class=\"dataframe\">\n",
              "  <thead>\n",
              "    <tr style=\"text-align: right;\">\n",
              "      <th></th>\n",
              "      <th>features</th>\n",
              "      <th>Ridge</th>\n",
              "      <th>Lasso</th>\n",
              "    </tr>\n",
              "  </thead>\n",
              "  <tbody>\n",
              "    <tr>\n",
              "      <th>0</th>\n",
              "      <td>1</td>\n",
              "      <td>0.000000</td>\n",
              "      <td>0.000000</td>\n",
              "    </tr>\n",
              "    <tr>\n",
              "      <th>1</th>\n",
              "      <td>sqft</td>\n",
              "      <td>677.617878</td>\n",
              "      <td>768.802512</td>\n",
              "    </tr>\n",
              "    <tr>\n",
              "      <th>2</th>\n",
              "      <td>beds</td>\n",
              "      <td>24.066698</td>\n",
              "      <td>0.000000</td>\n",
              "    </tr>\n",
              "    <tr>\n",
              "      <th>3</th>\n",
              "      <td>bath</td>\n",
              "      <td>107.870807</td>\n",
              "      <td>0.000000</td>\n",
              "    </tr>\n",
              "    <tr>\n",
              "      <th>4</th>\n",
              "      <td>laundry</td>\n",
              "      <td>145.613574</td>\n",
              "      <td>157.711786</td>\n",
              "    </tr>\n",
              "    <tr>\n",
              "      <th>5</th>\n",
              "      <td>pets</td>\n",
              "      <td>-53.401127</td>\n",
              "      <td>-0.000000</td>\n",
              "    </tr>\n",
              "    <tr>\n",
              "      <th>6</th>\n",
              "      <td>parking</td>\n",
              "      <td>23.725012</td>\n",
              "      <td>-0.000000</td>\n",
              "    </tr>\n",
              "    <tr>\n",
              "      <th>7</th>\n",
              "      <td>hood_district_1</td>\n",
              "      <td>-18.363734</td>\n",
              "      <td>0.000000</td>\n",
              "    </tr>\n",
              "    <tr>\n",
              "      <th>8</th>\n",
              "      <td>hood_district_2</td>\n",
              "      <td>-18.474859</td>\n",
              "      <td>-0.000000</td>\n",
              "    </tr>\n",
              "    <tr>\n",
              "      <th>9</th>\n",
              "      <td>hood_district_3</td>\n",
              "      <td>-36.690528</td>\n",
              "      <td>-4.729673</td>\n",
              "    </tr>\n",
              "  </tbody>\n",
              "</table>\n",
              "</div>\n",
              "      <button class=\"colab-df-convert\" onclick=\"convertToInteractive('df-bb96e6c0-29db-44a9-9e24-fab78aa4fb53')\"\n",
              "              title=\"Convert this dataframe to an interactive table.\"\n",
              "              style=\"display:none;\">\n",
              "        \n",
              "  <svg xmlns=\"http://www.w3.org/2000/svg\" height=\"24px\"viewBox=\"0 0 24 24\"\n",
              "       width=\"24px\">\n",
              "    <path d=\"M0 0h24v24H0V0z\" fill=\"none\"/>\n",
              "    <path d=\"M18.56 5.44l.94 2.06.94-2.06 2.06-.94-2.06-.94-.94-2.06-.94 2.06-2.06.94zm-11 1L8.5 8.5l.94-2.06 2.06-.94-2.06-.94L8.5 2.5l-.94 2.06-2.06.94zm10 10l.94 2.06.94-2.06 2.06-.94-2.06-.94-.94-2.06-.94 2.06-2.06.94z\"/><path d=\"M17.41 7.96l-1.37-1.37c-.4-.4-.92-.59-1.43-.59-.52 0-1.04.2-1.43.59L10.3 9.45l-7.72 7.72c-.78.78-.78 2.05 0 2.83L4 21.41c.39.39.9.59 1.41.59.51 0 1.02-.2 1.41-.59l7.78-7.78 2.81-2.81c.8-.78.8-2.07 0-2.86zM5.41 20L4 18.59l7.72-7.72 1.47 1.35L5.41 20z\"/>\n",
              "  </svg>\n",
              "      </button>\n",
              "      \n",
              "  <style>\n",
              "    .colab-df-container {\n",
              "      display:flex;\n",
              "      flex-wrap:wrap;\n",
              "      gap: 12px;\n",
              "    }\n",
              "\n",
              "    .colab-df-convert {\n",
              "      background-color: #E8F0FE;\n",
              "      border: none;\n",
              "      border-radius: 50%;\n",
              "      cursor: pointer;\n",
              "      display: none;\n",
              "      fill: #1967D2;\n",
              "      height: 32px;\n",
              "      padding: 0 0 0 0;\n",
              "      width: 32px;\n",
              "    }\n",
              "\n",
              "    .colab-df-convert:hover {\n",
              "      background-color: #E2EBFA;\n",
              "      box-shadow: 0px 1px 2px rgba(60, 64, 67, 0.3), 0px 1px 3px 1px rgba(60, 64, 67, 0.15);\n",
              "      fill: #174EA6;\n",
              "    }\n",
              "\n",
              "    [theme=dark] .colab-df-convert {\n",
              "      background-color: #3B4455;\n",
              "      fill: #D2E3FC;\n",
              "    }\n",
              "\n",
              "    [theme=dark] .colab-df-convert:hover {\n",
              "      background-color: #434B5C;\n",
              "      box-shadow: 0px 1px 3px 1px rgba(0, 0, 0, 0.15);\n",
              "      filter: drop-shadow(0px 1px 2px rgba(0, 0, 0, 0.3));\n",
              "      fill: #FFFFFF;\n",
              "    }\n",
              "  </style>\n",
              "\n",
              "      <script>\n",
              "        const buttonEl =\n",
              "          document.querySelector('#df-bb96e6c0-29db-44a9-9e24-fab78aa4fb53 button.colab-df-convert');\n",
              "        buttonEl.style.display =\n",
              "          google.colab.kernel.accessAllowed ? 'block' : 'none';\n",
              "\n",
              "        async function convertToInteractive(key) {\n",
              "          const element = document.querySelector('#df-bb96e6c0-29db-44a9-9e24-fab78aa4fb53');\n",
              "          const dataTable =\n",
              "            await google.colab.kernel.invokeFunction('convertToInteractive',\n",
              "                                                     [key], {});\n",
              "          if (!dataTable) return;\n",
              "\n",
              "          const docLinkHtml = 'Like what you see? Visit the ' +\n",
              "            '<a target=\"_blank\" href=https://colab.research.google.com/notebooks/data_table.ipynb>data table notebook</a>'\n",
              "            + ' to learn more about interactive tables.';\n",
              "          element.innerHTML = '';\n",
              "          dataTable['output_type'] = 'display_data';\n",
              "          await google.colab.output.renderOutput(dataTable, element);\n",
              "          const docLink = document.createElement('div');\n",
              "          docLink.innerHTML = docLinkHtml;\n",
              "          element.appendChild(docLink);\n",
              "        }\n",
              "      </script>\n",
              "    </div>\n",
              "  </div>\n",
              "  "
            ],
            "text/plain": [
              "          features       Ridge       Lasso\n",
              "0                1    0.000000    0.000000\n",
              "1             sqft  677.617878  768.802512\n",
              "2             beds   24.066698    0.000000\n",
              "3             bath  107.870807    0.000000\n",
              "4          laundry  145.613574  157.711786\n",
              "5             pets  -53.401127   -0.000000\n",
              "6          parking   23.725012   -0.000000\n",
              "7  hood_district_1  -18.363734    0.000000\n",
              "8  hood_district_2  -18.474859   -0.000000\n",
              "9  hood_district_3  -36.690528   -4.729673"
            ]
          },
          "metadata": {},
          "execution_count": 35
        }
      ]
    },
    {
      "cell_type": "markdown",
      "source": [
        "### 3. Prediction Phase using the Ridge regressor"
      ],
      "metadata": {
        "id": "qNpq_Hpp6IHi"
      }
    },
    {
      "cell_type": "code",
      "source": [
        "poly = PolynomialFeatures(degree=2, interaction_only=False)\n",
        "    \n",
        "X_train_poly = poly.fit_transform(X)\n",
        "X_test_poly = poly.transform(X_test)\n",
        "\n",
        "# Scaling for Ridge & Lasso \n",
        "scaler = StandardScaler(with_mean=False)\n",
        "\n",
        "X_train_scaled = scaler.fit_transform(X_train_poly)\n",
        "X_test_scaled = scaler.transform(X_test_poly)"
      ],
      "metadata": {
        "id": "qxcLyixsFcXN"
      },
      "execution_count": null,
      "outputs": []
    },
    {
      "cell_type": "code",
      "source": [
        "rid = Ridge(alpha=ridge_alpha)\n",
        "rid.fit(X_train_scaled, y)"
      ],
      "metadata": {
        "colab": {
          "base_uri": "https://localhost:8080/"
        },
        "id": "1oAhYHRTVypV",
        "outputId": "47e2c8f0-4125-4c05-f5ef-d020fd42b12b"
      },
      "execution_count": null,
      "outputs": [
        {
          "output_type": "execute_result",
          "data": {
            "text/plain": [
              "Ridge(alpha=1.3226452905811614)"
            ]
          },
          "metadata": {},
          "execution_count": 37
        }
      ]
    },
    {
      "cell_type": "markdown",
      "source": [
        "#### Results"
      ],
      "metadata": {
        "id": "B33nYDRBV9EC"
      }
    },
    {
      "cell_type": "code",
      "source": [
        "print('Ridge for training score :', rid.score(X_train_scaled,y))\n",
        "print('Ridge for testing score:', rid.score(X_test_scaled,y_test))\n",
        "print('')\n",
        "print('RMSE for training :', mean_squared_error(y, rid.predict(X_train_scaled),squared=False))\n",
        "print(\"RMSE for test: \", mean_squared_error(y_test, rid.predict(X_test_scaled), squared=False))\n",
        "print(\"\")\n",
        "print('MAE for training:',np.mean(np.abs(rid.predict(X_train_scaled)-y)))\n",
        "print('MAE for testing:',np.mean(np.abs(rid.predict(X_test_scaled)-y_test)))"
      ],
      "metadata": {
        "colab": {
          "base_uri": "https://localhost:8080/"
        },
        "id": "miF6ivpQWDKC",
        "outputId": "381b8481-3d06-495a-80c8-f072c25b0b00"
      },
      "execution_count": null,
      "outputs": [
        {
          "output_type": "stream",
          "name": "stdout",
          "text": [
            "Ridge for training score : 0.7653172379027184\n",
            "Ridge for testing score: 0.706402832216303\n",
            "\n",
            "RMSE for training : 522.7071531029383\n",
            "RMSE for test:  569.4250242124803\n",
            "\n",
            "MAE for training: 391.6989377542524\n",
            "MAE for testing: 443.68022710079765\n"
          ]
        }
      ]
    },
    {
      "cell_type": "markdown",
      "source": [
        "### 4. Data visualization "
      ],
      "metadata": {
        "id": "o0gbf-R96jcG"
      }
    },
    {
      "cell_type": "markdown",
      "source": [
        "#### Comparison between actual and predicted values"
      ],
      "metadata": {
        "id": "3tshSrIFYalj"
      }
    },
    {
      "cell_type": "code",
      "source": [
        "rid_predict=rid.predict(X_test_scaled)"
      ],
      "metadata": {
        "id": "byWqbiDtYhAs"
      },
      "execution_count": null,
      "outputs": []
    },
    {
      "cell_type": "code",
      "source": [
        "plt.figure(figsize=(14, 8))\n",
        "plt.scatter(rid_predict, y_test, alpha=.6) \n",
        "\n",
        "z = np.polyfit(rid_predict, y_test, 1)\n",
        "p = np.poly1d(z)\n",
        "plb.plot(rid_predict, p(rid_predict), 'm-', color='red')\n",
        "plt.plot(np.linspace(0,7000,1000), np.linspace(0,7000,1000), color='grey')\n",
        "\n",
        "plt.xlim(0, 7000)\n",
        "plt.ylim(0, 7000)\n",
        "\n",
        "plt.suptitle('Loyer Appartment à SanFransisco  (Craigslist): Actuel contre Prédite', fontsize=20, fontname='Arial')\n",
        "plt.title('Régression linéaire avec Ridge Regularization', fontsize=16, fontname='Arial')\n",
        "plt.xlabel('Valeurs prédites ($)', fontsize=16, fontname='Arial')\n",
        "plt.ylabel('Valeurs actuelles ($)', fontsize=16, fontname='Arial');\n"
      ],
      "metadata": {
        "colab": {
          "base_uri": "https://localhost:8080/",
          "height": 603
        },
        "id": "n8E8DHHlY0eU",
        "outputId": "89b82cc4-a243-492c-e3fd-7a993f664b2b"
      },
      "execution_count": null,
      "outputs": [
        {
          "output_type": "stream",
          "name": "stderr",
          "text": [
            "findfont: Font family ['Arial'] not found. Falling back to DejaVu Sans.\n",
            "findfont: Font family ['Arial'] not found. Falling back to DejaVu Sans.\n"
          ]
        },
        {
          "output_type": "display_data",
          "data": {
            "image/png": "[encoded data removed]",
            "text/plain": [
              "<Figure size 1008x576 with 1 Axes>"
            ]
          },
          "metadata": {}
        }
      ]
    },
    {
      "cell_type": "code",
      "source": [
        "plt.savefig('ridge_actuel_predit.png')"
      ],
      "metadata": {
        "colab": {
          "base_uri": "https://localhost:8080/",
          "height": 35
        },
        "id": "SX037q05Y69o",
        "outputId": "dc65b226-02b7-4f74-9557-95f5c97bb116"
      },
      "execution_count": null,
      "outputs": [
        {
          "output_type": "display_data",
          "data": {
            "text/plain": [
              "<Figure size 432x288 with 0 Axes>"
            ]
          },
          "metadata": {}
        }
      ]
    },
    {
      "cell_type": "markdown",
      "source": [
        "### 5. Using Pyspark for regression"
      ],
      "metadata": {
        "id": "6_wn7mEzIE20"
      }
    },
    {
      "cell_type": "markdown",
      "source": [
        "* First let's readapt the columns of our dataset by putting the feature to predict in the end"
      ],
      "metadata": {
        "id": "Ke93MHGBMeWd"
      }
    },
    {
      "cell_type": "code",
      "source": [
        "col=sf.columns.tolist()\n",
        "col=col[1:]+col[:-len(col)+1]\n",
        "df=sf[col]\n",
        "df.head()"
      ],
      "metadata": {
        "colab": {
          "base_uri": "https://localhost:8080/",
          "height": 270
        },
        "id": "5O6PFWiYLEmU",
        "outputId": "1951ee50-7ca7-4cbb-dddf-55ad8c1b252d"
      },
      "execution_count": null,
      "outputs": [
        {
          "output_type": "execute_result",
          "data": {
            "text/html": [
              "\n",
              "  <div id=\"df-93a563d5-eec4-4f37-962d-925916af40ce\">\n",
              "    <div class=\"colab-df-container\">\n",
              "      <div>\n",
              "<style scoped>\n",
              "    .dataframe tbody tr th:only-of-type {\n",
              "        vertical-align: middle;\n",
              "    }\n",
              "\n",
              "    .dataframe tbody tr th {\n",
              "        vertical-align: top;\n",
              "    }\n",
              "\n",
              "    .dataframe thead th {\n",
              "        text-align: right;\n",
              "    }\n",
              "</style>\n",
              "<table border=\"1\" class=\"dataframe\">\n",
              "  <thead>\n",
              "    <tr style=\"text-align: right;\">\n",
              "      <th></th>\n",
              "      <th>sqft</th>\n",
              "      <th>beds</th>\n",
              "      <th>bath</th>\n",
              "      <th>laundry</th>\n",
              "      <th>pets</th>\n",
              "      <th>parking</th>\n",
              "      <th>hood_district_1</th>\n",
              "      <th>hood_district_2</th>\n",
              "      <th>hood_district_3</th>\n",
              "      <th>hood_district_4</th>\n",
              "      <th>hood_district_5</th>\n",
              "      <th>hood_district_6</th>\n",
              "      <th>hood_district_7</th>\n",
              "      <th>hood_district_8</th>\n",
              "      <th>hood_district_9</th>\n",
              "      <th>price</th>\n",
              "    </tr>\n",
              "  </thead>\n",
              "  <tbody>\n",
              "    <tr>\n",
              "      <th>0</th>\n",
              "      <td>805.0</td>\n",
              "      <td>1.0</td>\n",
              "      <td>1.0</td>\n",
              "      <td>2</td>\n",
              "      <td>1</td>\n",
              "      <td>2</td>\n",
              "      <td>0</td>\n",
              "      <td>0</td>\n",
              "      <td>0</td>\n",
              "      <td>0</td>\n",
              "      <td>0</td>\n",
              "      <td>1</td>\n",
              "      <td>0</td>\n",
              "      <td>0</td>\n",
              "      <td>0</td>\n",
              "      <td>3920</td>\n",
              "    </tr>\n",
              "    <tr>\n",
              "      <th>1</th>\n",
              "      <td>805.0</td>\n",
              "      <td>1.0</td>\n",
              "      <td>1.0</td>\n",
              "      <td>2</td>\n",
              "      <td>1</td>\n",
              "      <td>2</td>\n",
              "      <td>0</td>\n",
              "      <td>0</td>\n",
              "      <td>0</td>\n",
              "      <td>0</td>\n",
              "      <td>0</td>\n",
              "      <td>1</td>\n",
              "      <td>0</td>\n",
              "      <td>0</td>\n",
              "      <td>0</td>\n",
              "      <td>3870</td>\n",
              "    </tr>\n",
              "    <tr>\n",
              "      <th>2</th>\n",
              "      <td>1388.0</td>\n",
              "      <td>2.0</td>\n",
              "      <td>2.5</td>\n",
              "      <td>2</td>\n",
              "      <td>1</td>\n",
              "      <td>2</td>\n",
              "      <td>0</td>\n",
              "      <td>0</td>\n",
              "      <td>0</td>\n",
              "      <td>0</td>\n",
              "      <td>0</td>\n",
              "      <td>1</td>\n",
              "      <td>0</td>\n",
              "      <td>0</td>\n",
              "      <td>0</td>\n",
              "      <td>5105</td>\n",
              "    </tr>\n",
              "    <tr>\n",
              "      <th>3</th>\n",
              "      <td>1388.0</td>\n",
              "      <td>2.0</td>\n",
              "      <td>2.5</td>\n",
              "      <td>2</td>\n",
              "      <td>1</td>\n",
              "      <td>2</td>\n",
              "      <td>0</td>\n",
              "      <td>0</td>\n",
              "      <td>0</td>\n",
              "      <td>0</td>\n",
              "      <td>0</td>\n",
              "      <td>1</td>\n",
              "      <td>0</td>\n",
              "      <td>0</td>\n",
              "      <td>0</td>\n",
              "      <td>4850</td>\n",
              "    </tr>\n",
              "    <tr>\n",
              "      <th>4</th>\n",
              "      <td>1388.0</td>\n",
              "      <td>2.0</td>\n",
              "      <td>2.5</td>\n",
              "      <td>2</td>\n",
              "      <td>1</td>\n",
              "      <td>2</td>\n",
              "      <td>0</td>\n",
              "      <td>0</td>\n",
              "      <td>0</td>\n",
              "      <td>0</td>\n",
              "      <td>0</td>\n",
              "      <td>1</td>\n",
              "      <td>0</td>\n",
              "      <td>0</td>\n",
              "      <td>0</td>\n",
              "      <td>4750</td>\n",
              "    </tr>\n",
              "  </tbody>\n",
              "</table>\n",
              "</div>\n",
              "      <button class=\"colab-df-convert\" onclick=\"convertToInteractive('df-93a563d5-eec4-4f37-962d-925916af40ce')\"\n",
              "              title=\"Convert this dataframe to an interactive table.\"\n",
              "              style=\"display:none;\">\n",
              "        \n",
              "  <svg xmlns=\"http://www.w3.org/2000/svg\" height=\"24px\"viewBox=\"0 0 24 24\"\n",
              "       width=\"24px\">\n",
              "    <path d=\"M0 0h24v24H0V0z\" fill=\"none\"/>\n",
              "    <path d=\"M18.56 5.44l.94 2.06.94-2.06 2.06-.94-2.06-.94-.94-2.06-.94 2.06-2.06.94zm-11 1L8.5 8.5l.94-2.06 2.06-.94-2.06-.94L8.5 2.5l-.94 2.06-2.06.94zm10 10l.94 2.06.94-2.06 2.06-.94-2.06-.94-.94-2.06-.94 2.06-2.06.94z\"/><path d=\"M17.41 7.96l-1.37-1.37c-.4-.4-.92-.59-1.43-.59-.52 0-1.04.2-1.43.59L10.3 9.45l-7.72 7.72c-.78.78-.78 2.05 0 2.83L4 21.41c.39.39.9.59 1.41.59.51 0 1.02-.2 1.41-.59l7.78-7.78 2.81-2.81c.8-.78.8-2.07 0-2.86zM5.41 20L4 18.59l7.72-7.72 1.47 1.35L5.41 20z\"/>\n",
              "  </svg>\n",
              "      </button>\n",
              "      \n",
              "  <style>\n",
              "    .colab-df-container {\n",
              "      display:flex;\n",
              "      flex-wrap:wrap;\n",
              "      gap: 12px;\n",
              "    }\n",
              "\n",
              "    .colab-df-convert {\n",
              "      background-color: #E8F0FE;\n",
              "      border: none;\n",
              "      border-radius: 50%;\n",
              "      cursor: pointer;\n",
              "      display: none;\n",
              "      fill: #1967D2;\n",
              "      height: 32px;\n",
              "      padding: 0 0 0 0;\n",
              "      width: 32px;\n",
              "    }\n",
              "\n",
              "    .colab-df-convert:hover {\n",
              "      background-color: #E2EBFA;\n",
              "      box-shadow: 0px 1px 2px rgba(60, 64, 67, 0.3), 0px 1px 3px 1px rgba(60, 64, 67, 0.15);\n",
              "      fill: #174EA6;\n",
              "    }\n",
              "\n",
              "    [theme=dark] .colab-df-convert {\n",
              "      background-color: #3B4455;\n",
              "      fill: #D2E3FC;\n",
              "    }\n",
              "\n",
              "    [theme=dark] .colab-df-convert:hover {\n",
              "      background-color: #434B5C;\n",
              "      box-shadow: 0px 1px 3px 1px rgba(0, 0, 0, 0.15);\n",
              "      filter: drop-shadow(0px 1px 2px rgba(0, 0, 0, 0.3));\n",
              "      fill: #FFFFFF;\n",
              "    }\n",
              "  </style>\n",
              "\n",
              "      <script>\n",
              "        const buttonEl =\n",
              "          document.querySelector('#df-93a563d5-eec4-4f37-962d-925916af40ce button.colab-df-convert');\n",
              "        buttonEl.style.display =\n",
              "          google.colab.kernel.accessAllowed ? 'block' : 'none';\n",
              "\n",
              "        async function convertToInteractive(key) {\n",
              "          const element = document.querySelector('#df-93a563d5-eec4-4f37-962d-925916af40ce');\n",
              "          const dataTable =\n",
              "            await google.colab.kernel.invokeFunction('convertToInteractive',\n",
              "                                                     [key], {});\n",
              "          if (!dataTable) return;\n",
              "\n",
              "          const docLinkHtml = 'Like what you see? Visit the ' +\n",
              "            '<a target=\"_blank\" href=https://colab.research.google.com/notebooks/data_table.ipynb>data table notebook</a>'\n",
              "            + ' to learn more about interactive tables.';\n",
              "          element.innerHTML = '';\n",
              "          dataTable['output_type'] = 'display_data';\n",
              "          await google.colab.output.renderOutput(dataTable, element);\n",
              "          const docLink = document.createElement('div');\n",
              "          docLink.innerHTML = docLinkHtml;\n",
              "          element.appendChild(docLink);\n",
              "        }\n",
              "      </script>\n",
              "    </div>\n",
              "  </div>\n",
              "  "
            ],
            "text/plain": [
              "     sqft  beds  bath  ...  hood_district_8  hood_district_9  price\n",
              "0   805.0   1.0   1.0  ...                0                0   3920\n",
              "1   805.0   1.0   1.0  ...                0                0   3870\n",
              "2  1388.0   2.0   2.5  ...                0                0   5105\n",
              "3  1388.0   2.0   2.5  ...                0                0   4850\n",
              "4  1388.0   2.0   2.5  ...                0                0   4750\n",
              "\n",
              "[5 rows x 16 columns]"
            ]
          },
          "metadata": {},
          "execution_count": 57
        }
      ]
    },
    {
      "cell_type": "code",
      "source": [
        "df.to_csv('sf_spark.csv', index=False)"
      ],
      "metadata": {
        "id": "f0b-jd_eM161"
      },
      "execution_count": null,
      "outputs": []
    },
    {
      "cell_type": "markdown",
      "source": [
        "* First let's import the library of pyspark"
      ],
      "metadata": {
        "id": "kWpB6CoWZ-KX"
      }
    },
    {
      "cell_type": "code",
      "source": [
        "!pip install pyspark"
      ],
      "metadata": {
        "colab": {
          "base_uri": "https://localhost:8080/"
        },
        "id": "8al-8VhyNAKZ",
        "outputId": "fcf84ab8-7003-4663-dacc-e7e92b981b3f"
      },
      "execution_count": null,
      "outputs": [
        {
          "output_type": "stream",
          "name": "stdout",
          "text": [
            "Collecting pyspark\n",
            "  Downloading pyspark-3.2.1.tar.gz (281.4 MB)\n",
            "\u001b[K     |████████████████████████████████| 281.4 MB 44 kB/s \n",
            "\u001b[?25hCollecting py4j==0.10.9.3\n",
            "  Downloading py4j-0.10.9.3-py2.py3-none-any.whl (198 kB)\n",
            "\u001b[K     |████████████████████████████████| 198 kB 79.0 MB/s \n",
            "\u001b[?25hBuilding wheels for collected packages: pyspark\n",
            "  Building wheel for pyspark (setup.py) ... \u001b[?25l\u001b[?25hdone\n",
            "  Created wheel for pyspark: filename=pyspark-3.2.1-py2.py3-none-any.whl size=281853642 sha256=476c6f56cd8b5de9f6cad7562964f1be86a1d3ad8dc581f8937e5eab63d31912\n",
            "  Stored in directory: /root/.cache/pip/wheels/9f/f5/07/7cd8017084dce4e93e84e92efd1e1d5334db05f2e83bcef74f\n",
            "Successfully built pyspark\n",
            "Installing collected packages: py4j, pyspark\n",
            "Successfully installed py4j-0.10.9.3 pyspark-3.2.1\n"
          ]
        }
      ]
    },
    {
      "cell_type": "markdown",
      "source": [
        "* Let's import our dataset using **Pyspark**"
      ],
      "metadata": {
        "id": "qTpM6tsu68fZ"
      }
    },
    {
      "cell_type": "code",
      "source": [
        "from pyspark.sql import SparkSession\n",
        "\n",
        "spark = SparkSession \\\n",
        "    .builder \\\n",
        "    .appName(\"Rent prediction in SanFransisco \") \\\n",
        "    .config(\"spark.some.config.option\", \"some-value\") \\\n",
        "    .getOrCreate()"
      ],
      "metadata": {
        "id": "x-Jv7sv7R-_G"
      },
      "execution_count": null,
      "outputs": []
    },
    {
      "cell_type": "markdown",
      "source": [
        "* Load the Dataset"
      ],
      "metadata": {
        "id": "mHmkEcpO7aQw"
      }
    },
    {
      "cell_type": "code",
      "source": [
        "df = spark.read.format('com.databricks.spark.csv').\\\n",
        "                               options(header='true', \\\n",
        "                               inferschema='true').\\\n",
        "                               load(\"/content/sf_spark.csv\",header=True);\n",
        "\n",
        "df.show(5,True)\n",
        "df.printSchema()"
      ],
      "metadata": {
        "colab": {
          "base_uri": "https://localhost:8080/"
        },
        "id": "JwP-nPW47dmE",
        "outputId": "9cce8fa9-8fe8-4c17-8693-7c9563c62ba0"
      },
      "execution_count": null,
      "outputs": [
        {
          "output_type": "stream",
          "name": "stdout",
          "text": [
            "+------+----+----+-------+----+-------+---------------+---------------+---------------+---------------+---------------+---------------+---------------+---------------+---------------+-----+\n",
            "|  sqft|beds|bath|laundry|pets|parking|hood_district_1|hood_district_2|hood_district_3|hood_district_4|hood_district_5|hood_district_6|hood_district_7|hood_district_8|hood_district_9|price|\n",
            "+------+----+----+-------+----+-------+---------------+---------------+---------------+---------------+---------------+---------------+---------------+---------------+---------------+-----+\n",
            "| 805.0| 1.0| 1.0|      2|   1|      2|              0|              0|              0|              0|              0|              1|              0|              0|              0| 3920|\n",
            "| 805.0| 1.0| 1.0|      2|   1|      2|              0|              0|              0|              0|              0|              1|              0|              0|              0| 3870|\n",
            "|1388.0| 2.0| 2.5|      2|   1|      2|              0|              0|              0|              0|              0|              1|              0|              0|              0| 5105|\n",
            "|1388.0| 2.0| 2.5|      2|   1|      2|              0|              0|              0|              0|              0|              1|              0|              0|              0| 4850|\n",
            "|1388.0| 2.0| 2.5|      2|   1|      2|              0|              0|              0|              0|              0|              1|              0|              0|              0| 4750|\n",
            "+------+----+----+-------+----+-------+---------------+---------------+---------------+---------------+---------------+---------------+---------------+---------------+---------------+-----+\n",
            "only showing top 5 rows\n",
            "\n",
            "root\n",
            " |-- sqft: double (nullable = true)\n",
            " |-- beds: double (nullable = true)\n",
            " |-- bath: double (nullable = true)\n",
            " |-- laundry: integer (nullable = true)\n",
            " |-- pets: integer (nullable = true)\n",
            " |-- parking: integer (nullable = true)\n",
            " |-- hood_district_1: integer (nullable = true)\n",
            " |-- hood_district_2: integer (nullable = true)\n",
            " |-- hood_district_3: integer (nullable = true)\n",
            " |-- hood_district_4: integer (nullable = true)\n",
            " |-- hood_district_5: integer (nullable = true)\n",
            " |-- hood_district_6: integer (nullable = true)\n",
            " |-- hood_district_7: integer (nullable = true)\n",
            " |-- hood_district_8: integer (nullable = true)\n",
            " |-- hood_district_9: integer (nullable = true)\n",
            " |-- price: integer (nullable = true)\n",
            "\n"
          ]
        }
      ]
    },
    {
      "cell_type": "code",
      "source": [
        "df.describe().show()"
      ],
      "metadata": {
        "colab": {
          "base_uri": "https://localhost:8080/"
        },
        "id": "sW9lSAehFtoK",
        "outputId": "8fbb0c57-9959-4309-aee9-f4d30a79399b"
      },
      "execution_count": null,
      "outputs": [
        {
          "output_type": "stream",
          "name": "stdout",
          "text": [
            "+-------+-----------------+------------------+------------------+------------------+------------------+------------------+-------------------+-------------------+--------------------+--------------------+-------------------+-------------------+-------------------+-------------------+-------------------+------------------+\n",
            "|summary|             sqft|              beds|              bath|           laundry|              pets|           parking|    hood_district_1|    hood_district_2|     hood_district_3|     hood_district_4|    hood_district_5|    hood_district_6|    hood_district_7|    hood_district_8|    hood_district_9|             price|\n",
            "+-------+-----------------+------------------+------------------+------------------+------------------+------------------+-------------------+-------------------+--------------------+--------------------+-------------------+-------------------+-------------------+-------------------+-------------------+------------------+\n",
            "|  count|              987|               987|               987|               987|               987|               987|                987|                987|                 987|                 987|                987|                987|                987|                987|                987|               987|\n",
            "|   mean|872.5552178318136| 1.513677811550152|1.2852077001013171|1.3333333333333333| 0.541033434650456|0.9199594731509625|0.07700101317122594|0.05977710233029382|0.020263424518743668|0.011144883485309016|0.08713272543059777|0.06281661600810537|0.08611955420466058|0.23606889564336372| 0.3262411347517731| 3441.352583586626|\n",
            "| stddev|371.5565249840777|0.9546328529434437|0.4739288471401605|0.7130579615463798|0.4985660430541476|   1.0074151036458| 0.2667282102306515|0.23719359644226862|  0.1409714611172006| 0.10503262451561672| 0.2821724359024679|0.24275583482645582| 0.2806827337962247|0.42488030448473696|0.46907439240321724|1074.0966718822808|\n",
            "|    min|              1.0|               0.0|               1.0|                 0|                 0|                 0|                  0|                  0|                   0|                   0|                  0|                  0|                  0|                  0|                  0|               225|\n",
            "|    max|           3460.0|               8.0|               4.0|                 2|                 1|                 3|                  1|                  1|                   1|                   1|                  1|                  1|                  1|                  1|                  1|              5999|\n",
            "+-------+-----------------+------------------+------------------+------------------+------------------+------------------+-------------------+-------------------+--------------------+--------------------+-------------------+-------------------+-------------------+-------------------+-------------------+------------------+\n",
            "\n"
          ]
        }
      ]
    },
    {
      "cell_type": "code",
      "source": [
        "from pyspark.sql import Row\n",
        "from pyspark.ml.linalg import Vectors\n",
        "\n",
        "def transData(data):\n",
        "    return data.rdd.map(lambda r: [Vectors.dense(r[:-1]),r[-1]]).toDF(['features','label'])"
      ],
      "metadata": {
        "id": "6MNC8iaLJUtL"
      },
      "execution_count": null,
      "outputs": []
    },
    {
      "cell_type": "markdown",
      "source": [
        "* Convert the data to dense vector"
      ],
      "metadata": {
        "id": "cGS80sBlNdqY"
      }
    },
    {
      "cell_type": "code",
      "source": [
        "transformed= transData(df)\n",
        "transformed.show(5)"
      ],
      "metadata": {
        "colab": {
          "base_uri": "https://localhost:8080/"
        },
        "id": "kgGIq8NcNjLP",
        "outputId": "0ebf8ab7-3cf3-42af-f0ec-ce05959e81cd"
      },
      "execution_count": null,
      "outputs": [
        {
          "output_type": "stream",
          "name": "stdout",
          "text": [
            "+--------------------+-----+\n",
            "|            features|label|\n",
            "+--------------------+-----+\n",
            "|[805.0,1.0,1.0,2....| 3920|\n",
            "|[805.0,1.0,1.0,2....| 3870|\n",
            "|[1388.0,2.0,2.5,2...| 5105|\n",
            "|[1388.0,2.0,2.5,2...| 4850|\n",
            "|[1388.0,2.0,2.5,2...| 4750|\n",
            "+--------------------+-----+\n",
            "only showing top 5 rows\n",
            "\n"
          ]
        }
      ]
    },
    {
      "cell_type": "markdown",
      "source": [
        "* Dealing with the rest of categorical varibales "
      ],
      "metadata": {
        "id": "zivyFWBaNiRH"
      }
    },
    {
      "cell_type": "code",
      "source": [
        "from pyspark.ml import Pipeline\n",
        "from pyspark.ml.regression import LinearRegression\n",
        "from pyspark.ml.feature import VectorIndexer\n",
        "from pyspark.ml.evaluation import RegressionEvaluator\n",
        "\n",
        "featureIndexer = VectorIndexer(inputCol=\"features\", \\\n",
        "                               outputCol=\"indexedFeatures\",\\\n",
        "                               maxCategories=4).fit(transformed)\n",
        "\n",
        "data = featureIndexer.transform(transformed)\n",
        "data.show(5,True)"
      ],
      "metadata": {
        "colab": {
          "base_uri": "https://localhost:8080/"
        },
        "id": "XRv50Be-N6ps",
        "outputId": "085c3864-9490-4907-df6f-77254bd33cc6"
      },
      "execution_count": null,
      "outputs": [
        {
          "output_type": "stream",
          "name": "stdout",
          "text": [
            "+--------------------+-----+--------------------+\n",
            "|            features|label|     indexedFeatures|\n",
            "+--------------------+-----+--------------------+\n",
            "|[805.0,1.0,1.0,2....| 3920|[805.0,1.0,1.0,2....|\n",
            "|[805.0,1.0,1.0,2....| 3870|[805.0,1.0,1.0,2....|\n",
            "|[1388.0,2.0,2.5,2...| 5105|[1388.0,2.0,2.5,2...|\n",
            "|[1388.0,2.0,2.5,2...| 4850|[1388.0,2.0,2.5,2...|\n",
            "|[1388.0,2.0,2.5,2...| 4750|[1388.0,2.0,2.5,2...|\n",
            "+--------------------+-----+--------------------+\n",
            "only showing top 5 rows\n",
            "\n"
          ]
        }
      ]
    },
    {
      "cell_type": "markdown",
      "source": [
        "* Split the data to train and test"
      ],
      "metadata": {
        "id": "v8mRUHJTOLTm"
      }
    },
    {
      "cell_type": "code",
      "source": [
        "# Split the data into training and test sets (40% held out for testing)\n",
        "(trainingData, testData) = data.randomSplit([0.6, 0.4])\n",
        "\n",
        "trainingData.show(5)\n",
        "testData.show(5)"
      ],
      "metadata": {
        "colab": {
          "base_uri": "https://localhost:8080/"
        },
        "id": "f7J848OYOQcX",
        "outputId": "6cf35ee1-9d91-4fe4-a55a-53fb078c1f8a"
      },
      "execution_count": null,
      "outputs": [
        {
          "output_type": "stream",
          "name": "stdout",
          "text": [
            "+--------------------+-----+--------------------+\n",
            "|            features|label|     indexedFeatures|\n",
            "+--------------------+-----+--------------------+\n",
            "|[1.0,2.0,1.0,1.0,...| 3500|[1.0,2.0,1.0,1.0,...|\n",
            "|[100.0,0.0,1.0,1....| 1500|[100.0,0.0,1.0,1....|\n",
            "|[140.0,0.0,1.0,0....| 1100|[140.0,0.0,1.0,0....|\n",
            "|[225.0,0.0,1.0,1....| 1695|[225.0,0.0,1.0,1....|\n",
            "|[230.0,1.0,1.0,1....| 1100|[230.0,1.0,1.0,1....|\n",
            "+--------------------+-----+--------------------+\n",
            "only showing top 5 rows\n",
            "\n",
            "+--------------------+-----+--------------------+\n",
            "|            features|label|     indexedFeatures|\n",
            "+--------------------+-----+--------------------+\n",
            "|[200.0,0.0,1.0,1....| 1600|[200.0,0.0,1.0,1....|\n",
            "|[277.0,0.0,1.0,1....| 1800|[277.0,0.0,1.0,1....|\n",
            "|[279.0,1.0,1.0,1....| 1795|[279.0,1.0,1.0,1....|\n",
            "|[300.0,0.0,1.0,0....| 1650|[300.0,0.0,1.0,0....|\n",
            "|[300.0,0.0,1.0,0....|  225|[300.0,0.0,1.0,0....|\n",
            "+--------------------+-----+--------------------+\n",
            "only showing top 5 rows\n",
            "\n"
          ]
        }
      ]
    },
    {
      "cell_type": "code",
      "source": [
        "# Import RandomForest class\n",
        "from pyspark.ml.regression import RandomForestRegressor\n",
        "\n",
        "# Calling RandomForest algorithm\n",
        "rf = RandomForestRegressor() # featuresCol=\"indexedFeatures\",numTrees=2, maxDepth=2, seed=42"
      ],
      "metadata": {
        "id": "3k5z9uIjOUMY"
      },
      "execution_count": null,
      "outputs": []
    },
    {
      "cell_type": "markdown",
      "source": [
        "* Using a pipeline "
      ],
      "metadata": {
        "id": "2Y1_1ju1PSzv"
      }
    },
    {
      "cell_type": "code",
      "source": [
        "# Chain indexer and tree in a Pipeline\n",
        "pipeline = Pipeline(stages=[featureIndexer, rf])\n",
        "model = pipeline.fit(trainingData)"
      ],
      "metadata": {
        "id": "ewArGm8tPXYk"
      },
      "execution_count": null,
      "outputs": []
    },
    {
      "cell_type": "markdown",
      "source": [
        "* Prediction using the randomforest regressor"
      ],
      "metadata": {
        "id": "P57uuqOQPYWo"
      }
    },
    {
      "cell_type": "code",
      "source": [
        "predictions = model.transform(testData)\n",
        "\n",
        "# Select example rows to display.\n",
        "predictions.select(\"features\",\"label\", \"prediction\").show(5)"
      ],
      "metadata": {
        "colab": {
          "base_uri": "https://localhost:8080/"
        },
        "id": "b2qe4DcCPeod",
        "outputId": "6a4bbd04-e572-435d-b6a2-229fd7f34300"
      },
      "execution_count": null,
      "outputs": [
        {
          "output_type": "stream",
          "name": "stdout",
          "text": [
            "+--------------------+-----+------------------+\n",
            "|            features|label|        prediction|\n",
            "+--------------------+-----+------------------+\n",
            "|[200.0,0.0,1.0,1....| 1600|1783.3955575999832|\n",
            "|[277.0,0.0,1.0,1....| 1800|1995.5670682377088|\n",
            "|[279.0,1.0,1.0,1....| 1795|2252.6936234598675|\n",
            "|[300.0,0.0,1.0,0....| 1650|1838.2007492872835|\n",
            "|[300.0,0.0,1.0,0....|  225| 1994.234842362604|\n",
            "+--------------------+-----+------------------+\n",
            "only showing top 5 rows\n",
            "\n"
          ]
        }
      ]
    },
    {
      "cell_type": "markdown",
      "source": [
        "* Evaluation part "
      ],
      "metadata": {
        "id": "xfHOQum8PvC5"
      }
    },
    {
      "cell_type": "code",
      "source": [
        "# Prediction and computing test error\n",
        "\n",
        "#RMSE\n",
        "evaluator = RegressionEvaluator(\n",
        "    labelCol=\"label\", predictionCol=\"prediction\", metricName=\"rmse\")\n",
        "rmse = evaluator.evaluate(predictions)\n",
        "print(\"Root Mean Squared Error (RMSE) on test data = %g\" % rmse)\n",
        "\n",
        "print(f'-'*30)\n",
        "\n",
        "#R2 score\n",
        "evaluator = RegressionEvaluator(\n",
        "    labelCol=\"label\", predictionCol=\"prediction\", metricName=\"r2\")\n",
        "r2 = evaluator.evaluate(predictions)\n",
        "print(\"R2 score (R2) on test data = %g\" % r2)"
      ],
      "metadata": {
        "colab": {
          "base_uri": "https://localhost:8080/"
        },
        "id": "w5Shgyu0P0VF",
        "outputId": "7b181d7f-b2bc-4fb3-c5e0-1181fffc689d"
      },
      "execution_count": null,
      "outputs": [
        {
          "output_type": "stream",
          "name": "stdout",
          "text": [
            "Root Mean Squared Error (RMSE) on test data = 663.297\n",
            "------------------------------\n",
            "R2 score (R2) on test data = 0.630182\n"
          ]
        }
      ]
    },
    {
      "cell_type": "markdown",
      "source": [
        "### 6. Residual Ploting"
      ],
      "metadata": {
        "id": "yTtk9kJ-ZL-f"
      }
    },
    {
      "cell_type": "markdown",
      "source": [
        "* Let's visualise the difference between the actual and predicted rent   "
      ],
      "metadata": {
        "id": "qA26oqRuZjqT"
      }
    },
    {
      "cell_type": "code",
      "source": [
        "rid_residual=(y_test-rid_predict)"
      ],
      "metadata": {
        "id": "X0JE0mXLZPwK"
      },
      "execution_count": null,
      "outputs": []
    },
    {
      "cell_type": "code",
      "source": [
        "plt.figure(figsize=(14, 8))\n",
        "plt.scatter(rid_predict, rid_residual, alpha=.7)   \n",
        "\n",
        "plt.axhline(0, linestyle='--', color='grey')\n",
        "plt.suptitle('Résidu', fontsize=20, fontname='Arial')\n",
        "plt.title('Régression linéaire avec Ridge Regularization', fontsize=16, fontname='Arial')\n",
        "plt.ylim(-2000, 2000)\n",
        "plt.xlabel('Coût prédit ($)', fontsize=16, fontname='Arial')\n",
        "plt.ylabel('Résidu ($)', fontsize=16, fontname='Arial');"
      ],
      "metadata": {
        "colab": {
          "base_uri": "https://localhost:8080/",
          "height": 565
        },
        "id": "IMIlfgtTZLJC",
        "outputId": "23d34b15-313d-4195-dc96-398ea09fbfae"
      },
      "execution_count": null,
      "outputs": [
        {
          "output_type": "display_data",
          "data": {
            "image/png": "[encoded data removed]",
            "text/plain": [
              "<Figure size 1008x576 with 1 Axes>"
            ]
          },
          "metadata": {}
        }
      ]
    },
    {
      "cell_type": "code",
      "source": [
        "plt.savefig('ridge_residue.png')"
      ],
      "metadata": {
        "colab": {
          "base_uri": "https://localhost:8080/",
          "height": 35
        },
        "id": "YCIH6hzSaSaP",
        "outputId": "2cc1c18d-6bf4-4769-c22a-e8971e521d10"
      },
      "execution_count": null,
      "outputs": [
        {
          "output_type": "display_data",
          "data": {
            "text/plain": [
              "<Figure size 432x288 with 0 Axes>"
            ]
          },
          "metadata": {}
        }
      ]
    },
    {
      "cell_type": "markdown",
      "source": [
        "#### Distribution of the rental prices "
      ],
      "metadata": {
        "id": "ZfaqfSpoaWeT"
      }
    },
    {
      "cell_type": "code",
      "source": [
        "plt.figure(figsize=(14, 8))\n",
        "ax_actual = sns.histplot(sf.price, kde=True, bins=(list(range(500, 6001, 500))))\n",
        "plt.axvline(sf.price.mean(), linestyle='--', color='grey')\n",
        "\n",
        "ax_predict = sns.histplot(rid_predict, kde=True)\n",
        "\n",
        "ax_actual.set_title('Distribution du prix des loyers à San francisco', fontname='Arial', fontsize=18)\n",
        "ax_actual.set_xlabel('Prix ($)', fontname='Arial', fontsize=16)\n",
        "ax_actual.set_ylabel('Nombre', fontname='Arial', fontsize=16)\n",
        "ax_actual.set_yticks([0, 25, 50, 75, 100, 125, 150, 175, 200, 225])\n",
        "ax_actual.set_xticks(list(range(500, 6001, 500)))\n",
        "ax_actual.set_xticklabels(list(range(500, 6001, 500)));"
      ],
      "metadata": {
        "colab": {
          "base_uri": "https://localhost:8080/",
          "height": 528
        },
        "id": "ZsxVatVjabub",
        "outputId": "dacafc96-5e16-4e5e-ab9b-95674a1d31e3"
      },
      "execution_count": null,
      "outputs": [
        {
          "output_type": "display_data",
          "data": {
            "image/png": "[encoded data removed]",
            "text/plain": [
              "<Figure size 1008x576 with 1 Axes>"
            ]
          },
          "metadata": {}
        }
      ]
    },
    {
      "cell_type": "code",
      "source": [
        "plt.savefig('Prix_distribution.png')"
      ],
      "metadata": {
        "colab": {
          "base_uri": "https://localhost:8080/",
          "height": 35
        },
        "id": "FjaXr9OSayaJ",
        "outputId": "5f242b05-13d0-430c-af8c-cebea6cfff3d"
      },
      "execution_count": null,
      "outputs": [
        {
          "output_type": "display_data",
          "data": {
            "text/plain": [
              "<Figure size 432x288 with 0 Axes>"
            ]
          },
          "metadata": {}
        }
      ]
    }
  ]
}